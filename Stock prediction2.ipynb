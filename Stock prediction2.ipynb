{
 "cells": [
  {
   "cell_type": "code",
   "execution_count": 1,
   "id": "75d26bb7",
   "metadata": {},
   "outputs": [],
   "source": [
    "#!pip install --upgrade tensorflow\n"
   ]
  },
  {
   "cell_type": "code",
   "execution_count": 2,
   "id": "c0f72243",
   "metadata": {},
   "outputs": [],
   "source": [
    "import numpy as np\n",
    "import pandas as pd\n",
    "import matplotlib.pyplot as plt\n",
    "import tensorflow as tf\n",
    "from sklearn.preprocessing import MinMaxScaler"
   ]
  },
  {
   "cell_type": "code",
   "execution_count": 3,
   "id": "b2762442",
   "metadata": {},
   "outputs": [],
   "source": [
    "path='C:\\\\Users\\\\kalas\\\\Downloads\\\\'\n",
    "data=pd.read_csv(path+'NSE-TATAGLOBAL11.csv')"
   ]
  },
  {
   "cell_type": "code",
   "execution_count": 4,
   "id": "2e38e8d0",
   "metadata": {},
   "outputs": [
    {
     "data": {
      "text/html": [
       "<div>\n",
       "<style scoped>\n",
       "    .dataframe tbody tr th:only-of-type {\n",
       "        vertical-align: middle;\n",
       "    }\n",
       "\n",
       "    .dataframe tbody tr th {\n",
       "        vertical-align: top;\n",
       "    }\n",
       "\n",
       "    .dataframe thead th {\n",
       "        text-align: right;\n",
       "    }\n",
       "</style>\n",
       "<table border=\"1\" class=\"dataframe\">\n",
       "  <thead>\n",
       "    <tr style=\"text-align: right;\">\n",
       "      <th></th>\n",
       "      <th>Date</th>\n",
       "      <th>Open</th>\n",
       "      <th>High</th>\n",
       "      <th>Low</th>\n",
       "      <th>Last</th>\n",
       "      <th>Close</th>\n",
       "      <th>Total Trade Quantity</th>\n",
       "      <th>Turnover (Lacs)</th>\n",
       "    </tr>\n",
       "  </thead>\n",
       "  <tbody>\n",
       "    <tr>\n",
       "      <th>0</th>\n",
       "      <td>2018-10-08</td>\n",
       "      <td>208.00</td>\n",
       "      <td>222.25</td>\n",
       "      <td>206.85</td>\n",
       "      <td>216.00</td>\n",
       "      <td>215.15</td>\n",
       "      <td>4642146.0</td>\n",
       "      <td>10062.83</td>\n",
       "    </tr>\n",
       "    <tr>\n",
       "      <th>1</th>\n",
       "      <td>2018-10-05</td>\n",
       "      <td>217.00</td>\n",
       "      <td>218.60</td>\n",
       "      <td>205.90</td>\n",
       "      <td>210.25</td>\n",
       "      <td>209.20</td>\n",
       "      <td>3519515.0</td>\n",
       "      <td>7407.06</td>\n",
       "    </tr>\n",
       "    <tr>\n",
       "      <th>2</th>\n",
       "      <td>2018-10-04</td>\n",
       "      <td>223.50</td>\n",
       "      <td>227.80</td>\n",
       "      <td>216.15</td>\n",
       "      <td>217.25</td>\n",
       "      <td>218.20</td>\n",
       "      <td>1728786.0</td>\n",
       "      <td>3815.79</td>\n",
       "    </tr>\n",
       "    <tr>\n",
       "      <th>3</th>\n",
       "      <td>2018-10-03</td>\n",
       "      <td>230.00</td>\n",
       "      <td>237.50</td>\n",
       "      <td>225.75</td>\n",
       "      <td>226.45</td>\n",
       "      <td>227.60</td>\n",
       "      <td>1708590.0</td>\n",
       "      <td>3960.27</td>\n",
       "    </tr>\n",
       "    <tr>\n",
       "      <th>4</th>\n",
       "      <td>2018-10-01</td>\n",
       "      <td>234.55</td>\n",
       "      <td>234.60</td>\n",
       "      <td>221.05</td>\n",
       "      <td>230.30</td>\n",
       "      <td>230.90</td>\n",
       "      <td>1534749.0</td>\n",
       "      <td>3486.05</td>\n",
       "    </tr>\n",
       "  </tbody>\n",
       "</table>\n",
       "</div>"
      ],
      "text/plain": [
       "         Date    Open    High     Low    Last   Close  Total Trade Quantity  \\\n",
       "0  2018-10-08  208.00  222.25  206.85  216.00  215.15             4642146.0   \n",
       "1  2018-10-05  217.00  218.60  205.90  210.25  209.20             3519515.0   \n",
       "2  2018-10-04  223.50  227.80  216.15  217.25  218.20             1728786.0   \n",
       "3  2018-10-03  230.00  237.50  225.75  226.45  227.60             1708590.0   \n",
       "4  2018-10-01  234.55  234.60  221.05  230.30  230.90             1534749.0   \n",
       "\n",
       "   Turnover (Lacs)  \n",
       "0         10062.83  \n",
       "1          7407.06  \n",
       "2          3815.79  \n",
       "3          3960.27  \n",
       "4          3486.05  "
      ]
     },
     "execution_count": 4,
     "metadata": {},
     "output_type": "execute_result"
    }
   ],
   "source": [
    "data.head()"
   ]
  },
  {
   "cell_type": "code",
   "execution_count": 5,
   "id": "59bd5376",
   "metadata": {},
   "outputs": [
    {
     "data": {
      "text/html": [
       "<div>\n",
       "<style scoped>\n",
       "    .dataframe tbody tr th:only-of-type {\n",
       "        vertical-align: middle;\n",
       "    }\n",
       "\n",
       "    .dataframe tbody tr th {\n",
       "        vertical-align: top;\n",
       "    }\n",
       "\n",
       "    .dataframe thead th {\n",
       "        text-align: right;\n",
       "    }\n",
       "</style>\n",
       "<table border=\"1\" class=\"dataframe\">\n",
       "  <thead>\n",
       "    <tr style=\"text-align: right;\">\n",
       "      <th></th>\n",
       "      <th>Open</th>\n",
       "      <th>High</th>\n",
       "      <th>Low</th>\n",
       "      <th>Last</th>\n",
       "      <th>Close</th>\n",
       "      <th>Total Trade Quantity</th>\n",
       "      <th>Turnover (Lacs)</th>\n",
       "    </tr>\n",
       "  </thead>\n",
       "  <tbody>\n",
       "    <tr>\n",
       "      <th>count</th>\n",
       "      <td>1235.000000</td>\n",
       "      <td>1235.000000</td>\n",
       "      <td>1235.000000</td>\n",
       "      <td>1235.000000</td>\n",
       "      <td>1235.000000</td>\n",
       "      <td>1.235000e+03</td>\n",
       "      <td>1235.000000</td>\n",
       "    </tr>\n",
       "    <tr>\n",
       "      <th>mean</th>\n",
       "      <td>168.954858</td>\n",
       "      <td>171.429069</td>\n",
       "      <td>166.402308</td>\n",
       "      <td>168.736356</td>\n",
       "      <td>168.731053</td>\n",
       "      <td>2.604151e+06</td>\n",
       "      <td>4843.166502</td>\n",
       "    </tr>\n",
       "    <tr>\n",
       "      <th>std</th>\n",
       "      <td>51.499145</td>\n",
       "      <td>52.436761</td>\n",
       "      <td>50.542919</td>\n",
       "      <td>51.587384</td>\n",
       "      <td>51.544928</td>\n",
       "      <td>2.277028e+06</td>\n",
       "      <td>5348.919832</td>\n",
       "    </tr>\n",
       "    <tr>\n",
       "      <th>min</th>\n",
       "      <td>103.000000</td>\n",
       "      <td>104.600000</td>\n",
       "      <td>100.000000</td>\n",
       "      <td>102.600000</td>\n",
       "      <td>102.650000</td>\n",
       "      <td>1.001800e+05</td>\n",
       "      <td>128.040000</td>\n",
       "    </tr>\n",
       "    <tr>\n",
       "      <th>25%</th>\n",
       "      <td>137.550000</td>\n",
       "      <td>138.925000</td>\n",
       "      <td>135.250000</td>\n",
       "      <td>137.175000</td>\n",
       "      <td>137.225000</td>\n",
       "      <td>1.284482e+06</td>\n",
       "      <td>1801.035000</td>\n",
       "    </tr>\n",
       "    <tr>\n",
       "      <th>50%</th>\n",
       "      <td>151.500000</td>\n",
       "      <td>153.250000</td>\n",
       "      <td>149.500000</td>\n",
       "      <td>151.200000</td>\n",
       "      <td>151.100000</td>\n",
       "      <td>1.964885e+06</td>\n",
       "      <td>3068.510000</td>\n",
       "    </tr>\n",
       "    <tr>\n",
       "      <th>75%</th>\n",
       "      <td>169.000000</td>\n",
       "      <td>172.325000</td>\n",
       "      <td>166.700000</td>\n",
       "      <td>169.100000</td>\n",
       "      <td>169.500000</td>\n",
       "      <td>3.095788e+06</td>\n",
       "      <td>5852.600000</td>\n",
       "    </tr>\n",
       "    <tr>\n",
       "      <th>max</th>\n",
       "      <td>327.700000</td>\n",
       "      <td>328.750000</td>\n",
       "      <td>321.650000</td>\n",
       "      <td>325.950000</td>\n",
       "      <td>325.750000</td>\n",
       "      <td>2.919102e+07</td>\n",
       "      <td>55755.080000</td>\n",
       "    </tr>\n",
       "  </tbody>\n",
       "</table>\n",
       "</div>"
      ],
      "text/plain": [
       "              Open         High          Low         Last        Close  \\\n",
       "count  1235.000000  1235.000000  1235.000000  1235.000000  1235.000000   \n",
       "mean    168.954858   171.429069   166.402308   168.736356   168.731053   \n",
       "std      51.499145    52.436761    50.542919    51.587384    51.544928   \n",
       "min     103.000000   104.600000   100.000000   102.600000   102.650000   \n",
       "25%     137.550000   138.925000   135.250000   137.175000   137.225000   \n",
       "50%     151.500000   153.250000   149.500000   151.200000   151.100000   \n",
       "75%     169.000000   172.325000   166.700000   169.100000   169.500000   \n",
       "max     327.700000   328.750000   321.650000   325.950000   325.750000   \n",
       "\n",
       "       Total Trade Quantity  Turnover (Lacs)  \n",
       "count          1.235000e+03      1235.000000  \n",
       "mean           2.604151e+06      4843.166502  \n",
       "std            2.277028e+06      5348.919832  \n",
       "min            1.001800e+05       128.040000  \n",
       "25%            1.284482e+06      1801.035000  \n",
       "50%            1.964885e+06      3068.510000  \n",
       "75%            3.095788e+06      5852.600000  \n",
       "max            2.919102e+07     55755.080000  "
      ]
     },
     "execution_count": 5,
     "metadata": {},
     "output_type": "execute_result"
    }
   ],
   "source": [
    "data.describe()\n"
   ]
  },
  {
   "cell_type": "code",
   "execution_count": 6,
   "id": "4d473745",
   "metadata": {},
   "outputs": [
    {
     "data": {
      "text/html": [
       "<div>\n",
       "<style scoped>\n",
       "    .dataframe tbody tr th:only-of-type {\n",
       "        vertical-align: middle;\n",
       "    }\n",
       "\n",
       "    .dataframe tbody tr th {\n",
       "        vertical-align: top;\n",
       "    }\n",
       "\n",
       "    .dataframe thead th {\n",
       "        text-align: right;\n",
       "    }\n",
       "</style>\n",
       "<table border=\"1\" class=\"dataframe\">\n",
       "  <thead>\n",
       "    <tr style=\"text-align: right;\">\n",
       "      <th></th>\n",
       "      <th>Columns_Name</th>\n",
       "      <th>Percentage</th>\n",
       "    </tr>\n",
       "  </thead>\n",
       "  <tbody>\n",
       "    <tr>\n",
       "      <th>0</th>\n",
       "      <td>Date</td>\n",
       "      <td>0.0</td>\n",
       "    </tr>\n",
       "    <tr>\n",
       "      <th>1</th>\n",
       "      <td>Open</td>\n",
       "      <td>0.0</td>\n",
       "    </tr>\n",
       "    <tr>\n",
       "      <th>2</th>\n",
       "      <td>High</td>\n",
       "      <td>0.0</td>\n",
       "    </tr>\n",
       "    <tr>\n",
       "      <th>3</th>\n",
       "      <td>Low</td>\n",
       "      <td>0.0</td>\n",
       "    </tr>\n",
       "    <tr>\n",
       "      <th>4</th>\n",
       "      <td>Last</td>\n",
       "      <td>0.0</td>\n",
       "    </tr>\n",
       "    <tr>\n",
       "      <th>5</th>\n",
       "      <td>Close</td>\n",
       "      <td>0.0</td>\n",
       "    </tr>\n",
       "    <tr>\n",
       "      <th>6</th>\n",
       "      <td>Total Trade Quantity</td>\n",
       "      <td>0.0</td>\n",
       "    </tr>\n",
       "    <tr>\n",
       "      <th>7</th>\n",
       "      <td>Turnover (Lacs)</td>\n",
       "      <td>0.0</td>\n",
       "    </tr>\n",
       "  </tbody>\n",
       "</table>\n",
       "</div>"
      ],
      "text/plain": [
       "           Columns_Name  Percentage\n",
       "0                  Date         0.0\n",
       "1                  Open         0.0\n",
       "2                  High         0.0\n",
       "3                   Low         0.0\n",
       "4                  Last         0.0\n",
       "5                 Close         0.0\n",
       "6  Total Trade Quantity         0.0\n",
       "7       Turnover (Lacs)         0.0"
      ]
     },
     "execution_count": 6,
     "metadata": {},
     "output_type": "execute_result"
    }
   ],
   "source": [
    "N=[(k,data[k].isnull().mean()*100) for k in data]\n",
    "N=pd.DataFrame(N,columns=['Columns_Name','Percentage'])\n",
    "N"
   ]
  },
  {
   "cell_type": "code",
   "execution_count": 7,
   "id": "144c43c2",
   "metadata": {},
   "outputs": [
    {
     "data": {
      "text/html": [
       "<div>\n",
       "<style scoped>\n",
       "    .dataframe tbody tr th:only-of-type {\n",
       "        vertical-align: middle;\n",
       "    }\n",
       "\n",
       "    .dataframe tbody tr th {\n",
       "        vertical-align: top;\n",
       "    }\n",
       "\n",
       "    .dataframe thead th {\n",
       "        text-align: right;\n",
       "    }\n",
       "</style>\n",
       "<table border=\"1\" class=\"dataframe\">\n",
       "  <thead>\n",
       "    <tr style=\"text-align: right;\">\n",
       "      <th></th>\n",
       "      <th>Date</th>\n",
       "      <th>Open</th>\n",
       "      <th>High</th>\n",
       "      <th>Low</th>\n",
       "      <th>Last</th>\n",
       "      <th>Close</th>\n",
       "      <th>Total Trade Quantity</th>\n",
       "      <th>Turnover (Lacs)</th>\n",
       "    </tr>\n",
       "  </thead>\n",
       "  <tbody>\n",
       "    <tr>\n",
       "      <th>1234</th>\n",
       "      <td>2013-10-08</td>\n",
       "      <td>157.00</td>\n",
       "      <td>157.80</td>\n",
       "      <td>155.20</td>\n",
       "      <td>155.8</td>\n",
       "      <td>155.80</td>\n",
       "      <td>1720413.0</td>\n",
       "      <td>2688.94</td>\n",
       "    </tr>\n",
       "    <tr>\n",
       "      <th>1233</th>\n",
       "      <td>2013-10-09</td>\n",
       "      <td>155.70</td>\n",
       "      <td>158.20</td>\n",
       "      <td>154.15</td>\n",
       "      <td>155.3</td>\n",
       "      <td>155.55</td>\n",
       "      <td>2049580.0</td>\n",
       "      <td>3204.49</td>\n",
       "    </tr>\n",
       "    <tr>\n",
       "      <th>1232</th>\n",
       "      <td>2013-10-10</td>\n",
       "      <td>156.00</td>\n",
       "      <td>160.80</td>\n",
       "      <td>155.85</td>\n",
       "      <td>160.3</td>\n",
       "      <td>160.15</td>\n",
       "      <td>3124853.0</td>\n",
       "      <td>4978.80</td>\n",
       "    </tr>\n",
       "    <tr>\n",
       "      <th>1231</th>\n",
       "      <td>2013-10-11</td>\n",
       "      <td>161.15</td>\n",
       "      <td>163.45</td>\n",
       "      <td>159.00</td>\n",
       "      <td>159.8</td>\n",
       "      <td>160.05</td>\n",
       "      <td>1880046.0</td>\n",
       "      <td>3030.76</td>\n",
       "    </tr>\n",
       "    <tr>\n",
       "      <th>1230</th>\n",
       "      <td>2013-10-14</td>\n",
       "      <td>160.85</td>\n",
       "      <td>161.45</td>\n",
       "      <td>157.70</td>\n",
       "      <td>159.3</td>\n",
       "      <td>159.45</td>\n",
       "      <td>1281419.0</td>\n",
       "      <td>2039.09</td>\n",
       "    </tr>\n",
       "  </tbody>\n",
       "</table>\n",
       "</div>"
      ],
      "text/plain": [
       "            Date    Open    High     Low   Last   Close  Total Trade Quantity  \\\n",
       "1234  2013-10-08  157.00  157.80  155.20  155.8  155.80             1720413.0   \n",
       "1233  2013-10-09  155.70  158.20  154.15  155.3  155.55             2049580.0   \n",
       "1232  2013-10-10  156.00  160.80  155.85  160.3  160.15             3124853.0   \n",
       "1231  2013-10-11  161.15  163.45  159.00  159.8  160.05             1880046.0   \n",
       "1230  2013-10-14  160.85  161.45  157.70  159.3  159.45             1281419.0   \n",
       "\n",
       "      Turnover (Lacs)  \n",
       "1234          2688.94  \n",
       "1233          3204.49  \n",
       "1232          4978.80  \n",
       "1231          3030.76  \n",
       "1230          2039.09  "
      ]
     },
     "execution_count": 7,
     "metadata": {},
     "output_type": "execute_result"
    }
   ],
   "source": [
    "sort_acc_date=data.sort_values(by='Date')\n",
    "sort_acc_date.head()\n"
   ]
  },
  {
   "cell_type": "code",
   "execution_count": 8,
   "id": "4236cdf7",
   "metadata": {},
   "outputs": [
    {
     "data": {
      "text/html": [
       "<div>\n",
       "<style scoped>\n",
       "    .dataframe tbody tr th:only-of-type {\n",
       "        vertical-align: middle;\n",
       "    }\n",
       "\n",
       "    .dataframe tbody tr th {\n",
       "        vertical-align: top;\n",
       "    }\n",
       "\n",
       "    .dataframe thead th {\n",
       "        text-align: right;\n",
       "    }\n",
       "</style>\n",
       "<table border=\"1\" class=\"dataframe\">\n",
       "  <thead>\n",
       "    <tr style=\"text-align: right;\">\n",
       "      <th></th>\n",
       "      <th>index</th>\n",
       "      <th>Date</th>\n",
       "      <th>Open</th>\n",
       "      <th>High</th>\n",
       "      <th>Low</th>\n",
       "      <th>Last</th>\n",
       "      <th>Close</th>\n",
       "      <th>Total Trade Quantity</th>\n",
       "      <th>Turnover (Lacs)</th>\n",
       "    </tr>\n",
       "  </thead>\n",
       "  <tbody>\n",
       "    <tr>\n",
       "      <th>0</th>\n",
       "      <td>1234</td>\n",
       "      <td>2013-10-08</td>\n",
       "      <td>157.00</td>\n",
       "      <td>157.80</td>\n",
       "      <td>155.20</td>\n",
       "      <td>155.8</td>\n",
       "      <td>155.80</td>\n",
       "      <td>1720413.0</td>\n",
       "      <td>2688.94</td>\n",
       "    </tr>\n",
       "    <tr>\n",
       "      <th>1</th>\n",
       "      <td>1233</td>\n",
       "      <td>2013-10-09</td>\n",
       "      <td>155.70</td>\n",
       "      <td>158.20</td>\n",
       "      <td>154.15</td>\n",
       "      <td>155.3</td>\n",
       "      <td>155.55</td>\n",
       "      <td>2049580.0</td>\n",
       "      <td>3204.49</td>\n",
       "    </tr>\n",
       "    <tr>\n",
       "      <th>2</th>\n",
       "      <td>1232</td>\n",
       "      <td>2013-10-10</td>\n",
       "      <td>156.00</td>\n",
       "      <td>160.80</td>\n",
       "      <td>155.85</td>\n",
       "      <td>160.3</td>\n",
       "      <td>160.15</td>\n",
       "      <td>3124853.0</td>\n",
       "      <td>4978.80</td>\n",
       "    </tr>\n",
       "    <tr>\n",
       "      <th>3</th>\n",
       "      <td>1231</td>\n",
       "      <td>2013-10-11</td>\n",
       "      <td>161.15</td>\n",
       "      <td>163.45</td>\n",
       "      <td>159.00</td>\n",
       "      <td>159.8</td>\n",
       "      <td>160.05</td>\n",
       "      <td>1880046.0</td>\n",
       "      <td>3030.76</td>\n",
       "    </tr>\n",
       "    <tr>\n",
       "      <th>4</th>\n",
       "      <td>1230</td>\n",
       "      <td>2013-10-14</td>\n",
       "      <td>160.85</td>\n",
       "      <td>161.45</td>\n",
       "      <td>157.70</td>\n",
       "      <td>159.3</td>\n",
       "      <td>159.45</td>\n",
       "      <td>1281419.0</td>\n",
       "      <td>2039.09</td>\n",
       "    </tr>\n",
       "  </tbody>\n",
       "</table>\n",
       "</div>"
      ],
      "text/plain": [
       "   index        Date    Open    High     Low   Last   Close  \\\n",
       "0   1234  2013-10-08  157.00  157.80  155.20  155.8  155.80   \n",
       "1   1233  2013-10-09  155.70  158.20  154.15  155.3  155.55   \n",
       "2   1232  2013-10-10  156.00  160.80  155.85  160.3  160.15   \n",
       "3   1231  2013-10-11  161.15  163.45  159.00  159.8  160.05   \n",
       "4   1230  2013-10-14  160.85  161.45  157.70  159.3  159.45   \n",
       "\n",
       "   Total Trade Quantity  Turnover (Lacs)  \n",
       "0             1720413.0          2688.94  \n",
       "1             2049580.0          3204.49  \n",
       "2             3124853.0          4978.80  \n",
       "3             1880046.0          3030.76  \n",
       "4             1281419.0          2039.09  "
      ]
     },
     "execution_count": 8,
     "metadata": {},
     "output_type": "execute_result"
    }
   ],
   "source": [
    "sort_acc_date.reset_index(inplace=True)\n",
    "sort_acc_date.head()"
   ]
  },
  {
   "cell_type": "code",
   "execution_count": 9,
   "id": "4dfd0870",
   "metadata": {},
   "outputs": [
    {
     "data": {
      "image/png": "[encoded data removed]",
      "text/plain": [
       "<Figure size 1000x700 with 1 Axes>"
      ]
     },
     "metadata": {},
     "output_type": "display_data"
    }
   ],
   "source": [
    "plt.figure(figsize=(10,7))\n",
    "plt.plot(sort_acc_date['Date'],sort_acc_date['Close'])\n",
    "plt.show()"
   ]
  },
  {
   "cell_type": "code",
   "execution_count": 10,
   "id": "af0e0885",
   "metadata": {},
   "outputs": [
    {
     "data": {
      "text/plain": [
       "0       155.80\n",
       "1       155.55\n",
       "2       160.15\n",
       "3       160.05\n",
       "4       159.45\n",
       "         ...  \n",
       "1230    230.90\n",
       "1231    227.60\n",
       "1232    218.20\n",
       "1233    209.20\n",
       "1234    215.15\n",
       "Name: Close, Length: 1235, dtype: float64"
      ]
     },
     "execution_count": 10,
     "metadata": {},
     "output_type": "execute_result"
    }
   ],
   "source": [
    "close_sort_acc_date= sort_acc_date['Close']\n",
    "close_sort_acc_date"
   ]
  },
  {
   "cell_type": "markdown",
   "id": "121bbf2a",
   "metadata": {},
   "source": [
    "# Feature Scaling (MinMax scaler)"
   ]
  },
  {
   "cell_type": "code",
   "execution_count": 11,
   "id": "6ce7bd04",
   "metadata": {},
   "outputs": [
    {
     "data": {
      "text/plain": [
       "array([[0.23823398],\n",
       "       [0.2371134 ],\n",
       "       [0.25773196],\n",
       "       ...,\n",
       "       [0.51792918],\n",
       "       [0.47758853],\n",
       "       [0.50425818]])"
      ]
     },
     "execution_count": 11,
     "metadata": {},
     "output_type": "execute_result"
    }
   ],
   "source": [
    "scaler=MinMaxScaler(feature_range=(0,1))\n",
    "close_sort_acc_date=scaler.fit_transform(np.array(close_sort_acc_date).reshape(-1,1))\n",
    "close_sort_acc_date"
   ]
  },
  {
   "cell_type": "markdown",
   "id": "9a3bd94d",
   "metadata": {},
   "source": [
    "# Splitting the dataset\n"
   ]
  },
  {
   "cell_type": "code",
   "execution_count": 12,
   "id": "80e21689",
   "metadata": {},
   "outputs": [
    {
     "data": {
      "text/plain": [
       "(864, 1)"
      ]
     },
     "execution_count": 12,
     "metadata": {},
     "output_type": "execute_result"
    }
   ],
   "source": [
    "train_size=int(len(close_sort_acc_date)*0.7)\n",
    "test_size=len(close_sort_acc_date)-train_size\n",
    "train_data,test_data=close_sort_acc_date[0:train_size,:],close_sort_acc_date[train_size:len(close_sort_acc_date),:1]\n",
    "train_data.shape"
   ]
  },
  {
   "cell_type": "code",
   "execution_count": 13,
   "id": "d3d45575",
   "metadata": {},
   "outputs": [
    {
     "data": {
      "text/plain": [
       "(371, 1)"
      ]
     },
     "execution_count": 13,
     "metadata": {},
     "output_type": "execute_result"
    }
   ],
   "source": [
    "test_data.shape"
   ]
  },
  {
   "cell_type": "markdown",
   "id": "42fe7459",
   "metadata": {},
   "source": [
    "# convert an array of values into a dateset matrix"
   ]
  },
  {
   "cell_type": "code",
   "execution_count": 14,
   "id": "05917623",
   "metadata": {},
   "outputs": [],
   "source": [
    "def cr_data(dataset,time_step=1):\n",
    "    dataX, dataY=[],[]\n",
    "    for i in range(len(dataset)-time_step-1):\n",
    "        a= dataset[i:(i+time_step),0]\n",
    "        dataX.append(a)\n",
    "        dataY.append(dataset[i+time_step,0])\n",
    "    return np.array(dataX), np.array(dataY)"
   ]
  },
  {
   "cell_type": "markdown",
   "id": "33034c35",
   "metadata": {},
   "source": [
    "# reshaping of dataset"
   ]
  },
  {
   "cell_type": "code",
   "execution_count": 15,
   "id": "a1a6b1df",
   "metadata": {},
   "outputs": [
    {
     "name": "stdout",
     "output_type": "stream",
     "text": [
      "(763, 100)\n",
      "(763,)\n"
     ]
    }
   ],
   "source": [
    "time_step=100\n",
    "X_train,Y_train=cr_data(train_data,time_step)\n",
    "X_test,Y_test=cr_data(test_data,time_step)\n",
    "print(X_train.shape)\n",
    "print(Y_train.shape)"
   ]
  },
  {
   "cell_type": "code",
   "execution_count": 16,
   "id": "7ca6115a",
   "metadata": {},
   "outputs": [
    {
     "name": "stdout",
     "output_type": "stream",
     "text": [
      "(270, 100)\n",
      "(270,)\n"
     ]
    }
   ],
   "source": [
    "print(X_test.shape)\n",
    "print(Y_test.shape)"
   ]
  },
  {
   "cell_type": "code",
   "execution_count": 17,
   "id": "4fcc2b5f",
   "metadata": {},
   "outputs": [
    {
     "data": {
      "text/plain": [
       "array([[[0.23823398],\n",
       "        [0.2371134 ],\n",
       "        [0.25773196],\n",
       "        ...,\n",
       "        [0.17279247],\n",
       "        [0.16651726],\n",
       "        [0.16606903]],\n",
       "\n",
       "       [[0.2371134 ],\n",
       "        [0.25773196],\n",
       "        [0.25728373],\n",
       "        ...,\n",
       "        [0.16651726],\n",
       "        [0.16606903],\n",
       "        [0.14926042]],\n",
       "\n",
       "       [[0.25773196],\n",
       "        [0.25728373],\n",
       "        [0.25459435],\n",
       "        ...,\n",
       "        [0.16606903],\n",
       "        [0.14926042],\n",
       "        [0.16920663]],\n",
       "\n",
       "       ...,\n",
       "\n",
       "       [[0.08628418],\n",
       "        [0.10197221],\n",
       "        [0.07171672],\n",
       "        ...,\n",
       "        [0.21290901],\n",
       "        [0.21470193],\n",
       "        [0.22075303]],\n",
       "\n",
       "       [[0.10197221],\n",
       "        [0.07171672],\n",
       "        [0.06432093],\n",
       "        ...,\n",
       "        [0.21470193],\n",
       "        [0.22075303],\n",
       "        [0.22411475]],\n",
       "\n",
       "       [[0.07171672],\n",
       "        [0.06432093],\n",
       "        [0.0835948 ],\n",
       "        ...,\n",
       "        [0.22075303],\n",
       "        [0.22411475],\n",
       "        [0.22590766]]])"
      ]
     },
     "execution_count": 17,
     "metadata": {},
     "output_type": "execute_result"
    }
   ],
   "source": [
    "X_train=X_train.reshape(X_train.shape[0],X_train.shape[1],1)\n",
    "X_test=X_test.reshape(X_test.shape[0],X_test.shape[1],1)\n",
    "X_train\n"
   ]
  },
  {
   "cell_type": "markdown",
   "id": "89b38aa8",
   "metadata": {},
   "source": [
    "# creating the LSTM model"
   ]
  },
  {
   "cell_type": "code",
   "execution_count": 18,
   "id": "0800f447",
   "metadata": {},
   "outputs": [],
   "source": [
    "from tensorflow.keras.models import Sequential \n",
    "from tensorflow.keras.layers import Dense\n",
    "from tensorflow.keras.layers import LSTM\n"
   ]
  },
  {
   "cell_type": "code",
   "execution_count": 19,
   "id": "0ecfe82c",
   "metadata": {},
   "outputs": [],
   "source": [
    "model=Sequential()\n",
    "model.add(LSTM(50,return_sequences=True,input_shape=(100,1)))\n",
    "model.add(LSTM(50,return_sequences=True))\n",
    "model.add(LSTM(50))\n",
    "model.add(Dense(1))\n",
    "model.compile(loss='mean_squared_error',optimizer='adam')"
   ]
  },
  {
   "cell_type": "code",
   "execution_count": 20,
   "id": "3679db9e",
   "metadata": {},
   "outputs": [
    {
     "name": "stdout",
     "output_type": "stream",
     "text": [
      "Model: \"sequential\"\n",
      "_________________________________________________________________\n",
      " Layer (type)                Output Shape              Param #   \n",
      "=================================================================\n",
      " lstm (LSTM)                 (None, 100, 50)           10400     \n",
      "                                                                 \n",
      " lstm_1 (LSTM)               (None, 100, 50)           20200     \n",
      "                                                                 \n",
      " lstm_2 (LSTM)               (None, 50)                20200     \n",
      "                                                                 \n",
      " dense (Dense)               (None, 1)                 51        \n",
      "                                                                 \n",
      "=================================================================\n",
      "Total params: 50851 (198.64 KB)\n",
      "Trainable params: 50851 (198.64 KB)\n",
      "Non-trainable params: 0 (0.00 Byte)\n",
      "_________________________________________________________________\n"
     ]
    }
   ],
   "source": [
    "model.summary()"
   ]
  },
  {
   "cell_type": "markdown",
   "id": "2042b6d2",
   "metadata": {},
   "source": [
    "# Prediction and Checking Performance"
   ]
  },
  {
   "cell_type": "code",
   "execution_count": 21,
   "id": "9bea14c7",
   "metadata": {},
   "outputs": [
    {
     "name": "stdout",
     "output_type": "stream",
     "text": [
      "Epoch 1/60\n",
      "11/11 [==============================] - 23s 824ms/step - loss: 0.0095 - val_loss: 0.0015\n",
      "Epoch 2/60\n",
      "11/11 [==============================] - 5s 443ms/step - loss: 0.0026 - val_loss: 0.0013\n",
      "Epoch 3/60\n",
      "11/11 [==============================] - 5s 439ms/step - loss: 0.0020 - val_loss: 7.6709e-04\n",
      "Epoch 4/60\n",
      "11/11 [==============================] - 5s 443ms/step - loss: 0.0013 - val_loss: 0.0011\n",
      "Epoch 5/60\n",
      "11/11 [==============================] - 5s 449ms/step - loss: 0.0012 - val_loss: 5.9326e-04\n",
      "Epoch 6/60\n",
      "11/11 [==============================] - 5s 440ms/step - loss: 0.0010 - val_loss: 6.7213e-04\n",
      "Epoch 7/60\n",
      "11/11 [==============================] - 5s 442ms/step - loss: 9.8018e-04 - val_loss: 6.1349e-04\n",
      "Epoch 8/60\n",
      "11/11 [==============================] - 5s 426ms/step - loss: 9.4647e-04 - val_loss: 5.8784e-04\n",
      "Epoch 9/60\n",
      "11/11 [==============================] - 5s 438ms/step - loss: 9.3580e-04 - val_loss: 5.2277e-04\n",
      "Epoch 10/60\n",
      "11/11 [==============================] - 5s 415ms/step - loss: 9.3593e-04 - val_loss: 4.6132e-04\n",
      "Epoch 11/60\n",
      "11/11 [==============================] - 5s 433ms/step - loss: 9.2074e-04 - val_loss: 5.3903e-04\n",
      "Epoch 12/60\n",
      "11/11 [==============================] - 5s 417ms/step - loss: 8.6703e-04 - val_loss: 4.5616e-04\n",
      "Epoch 13/60\n",
      "11/11 [==============================] - 4s 409ms/step - loss: 8.3312e-04 - val_loss: 5.6638e-04\n",
      "Epoch 14/60\n",
      "11/11 [==============================] - 5s 422ms/step - loss: 8.0839e-04 - val_loss: 4.4235e-04\n",
      "Epoch 15/60\n",
      "11/11 [==============================] - 4s 404ms/step - loss: 7.7641e-04 - val_loss: 4.3464e-04\n",
      "Epoch 16/60\n",
      "11/11 [==============================] - 4s 406ms/step - loss: 7.6152e-04 - val_loss: 4.4138e-04\n",
      "Epoch 17/60\n",
      "11/11 [==============================] - 4s 382ms/step - loss: 7.4503e-04 - val_loss: 3.9166e-04\n",
      "Epoch 18/60\n",
      "11/11 [==============================] - 5s 441ms/step - loss: 7.3293e-04 - val_loss: 3.6409e-04\n",
      "Epoch 19/60\n",
      "11/11 [==============================] - 4s 336ms/step - loss: 7.3676e-04 - val_loss: 3.9018e-04\n",
      "Epoch 20/60\n",
      "11/11 [==============================] - 3s 286ms/step - loss: 7.1028e-04 - val_loss: 4.8836e-04\n",
      "Epoch 21/60\n",
      "11/11 [==============================] - 3s 249ms/step - loss: 6.9772e-04 - val_loss: 4.4296e-04\n",
      "Epoch 22/60\n",
      "11/11 [==============================] - 3s 298ms/step - loss: 6.3577e-04 - val_loss: 3.8508e-04\n",
      "Epoch 23/60\n",
      "11/11 [==============================] - 4s 389ms/step - loss: 6.2460e-04 - val_loss: 3.9592e-04\n",
      "Epoch 24/60\n",
      "11/11 [==============================] - 3s 259ms/step - loss: 6.0455e-04 - val_loss: 4.0153e-04\n",
      "Epoch 25/60\n",
      "11/11 [==============================] - 3s 321ms/step - loss: 5.9016e-04 - val_loss: 3.3869e-04\n",
      "Epoch 26/60\n",
      "11/11 [==============================] - 4s 342ms/step - loss: 6.5507e-04 - val_loss: 7.6319e-04\n",
      "Epoch 27/60\n",
      "11/11 [==============================] - 4s 380ms/step - loss: 6.6625e-04 - val_loss: 5.3907e-04\n",
      "Epoch 28/60\n",
      "11/11 [==============================] - 4s 400ms/step - loss: 6.5440e-04 - val_loss: 3.2497e-04\n",
      "Epoch 29/60\n",
      "11/11 [==============================] - 5s 430ms/step - loss: 6.7403e-04 - val_loss: 3.4233e-04\n",
      "Epoch 30/60\n",
      "11/11 [==============================] - 5s 432ms/step - loss: 6.1083e-04 - val_loss: 4.4023e-04\n",
      "Epoch 31/60\n",
      "11/11 [==============================] - 5s 419ms/step - loss: 5.5570e-04 - val_loss: 4.7673e-04\n",
      "Epoch 32/60\n",
      "11/11 [==============================] - 4s 359ms/step - loss: 5.6904e-04 - val_loss: 3.1709e-04\n",
      "Epoch 33/60\n",
      "11/11 [==============================] - 5s 429ms/step - loss: 5.6264e-04 - val_loss: 3.1142e-04\n",
      "Epoch 34/60\n",
      "11/11 [==============================] - 5s 415ms/step - loss: 5.2854e-04 - val_loss: 4.0015e-04\n",
      "Epoch 35/60\n",
      "11/11 [==============================] - 4s 326ms/step - loss: 5.0118e-04 - val_loss: 4.1231e-04\n",
      "Epoch 36/60\n",
      "11/11 [==============================] - 3s 287ms/step - loss: 5.1145e-04 - val_loss: 3.4838e-04\n",
      "Epoch 37/60\n",
      "11/11 [==============================] - 4s 405ms/step - loss: 5.0580e-04 - val_loss: 3.0678e-04\n",
      "Epoch 38/60\n",
      "11/11 [==============================] - 5s 428ms/step - loss: 5.0227e-04 - val_loss: 2.9001e-04\n",
      "Epoch 39/60\n",
      "11/11 [==============================] - 5s 421ms/step - loss: 4.9568e-04 - val_loss: 3.3670e-04\n",
      "Epoch 40/60\n",
      "11/11 [==============================] - 5s 411ms/step - loss: 4.7713e-04 - val_loss: 3.2088e-04\n",
      "Epoch 41/60\n",
      "11/11 [==============================] - 5s 412ms/step - loss: 4.6444e-04 - val_loss: 3.3448e-04\n",
      "Epoch 42/60\n",
      "11/11 [==============================] - 3s 288ms/step - loss: 4.5703e-04 - val_loss: 4.0269e-04\n",
      "Epoch 43/60\n",
      "11/11 [==============================] - 3s 323ms/step - loss: 4.7426e-04 - val_loss: 2.8412e-04\n",
      "Epoch 44/60\n",
      "11/11 [==============================] - 5s 409ms/step - loss: 4.6071e-04 - val_loss: 3.3452e-04\n",
      "Epoch 45/60\n",
      "11/11 [==============================] - 4s 401ms/step - loss: 4.4695e-04 - val_loss: 3.6538e-04\n",
      "Epoch 46/60\n",
      "11/11 [==============================] - 5s 415ms/step - loss: 4.3202e-04 - val_loss: 3.0841e-04\n",
      "Epoch 47/60\n",
      "11/11 [==============================] - 5s 430ms/step - loss: 4.3497e-04 - val_loss: 2.6810e-04\n",
      "Epoch 48/60\n",
      "11/11 [==============================] - 5s 425ms/step - loss: 4.3871e-04 - val_loss: 3.1749e-04\n",
      "Epoch 49/60\n",
      "11/11 [==============================] - 5s 410ms/step - loss: 4.2062e-04 - val_loss: 3.3047e-04\n",
      "Epoch 50/60\n",
      "11/11 [==============================] - 4s 387ms/step - loss: 4.1479e-04 - val_loss: 3.8708e-04\n",
      "Epoch 51/60\n",
      "11/11 [==============================] - 5s 428ms/step - loss: 4.1936e-04 - val_loss: 2.4708e-04\n",
      "Epoch 52/60\n",
      "11/11 [==============================] - 5s 431ms/step - loss: 3.9850e-04 - val_loss: 2.7692e-04\n",
      "Epoch 53/60\n",
      "11/11 [==============================] - 5s 429ms/step - loss: 4.0416e-04 - val_loss: 2.4496e-04\n",
      "Epoch 54/60\n",
      "11/11 [==============================] - 5s 424ms/step - loss: 3.9587e-04 - val_loss: 2.6281e-04\n",
      "Epoch 55/60\n",
      "11/11 [==============================] - 5s 437ms/step - loss: 3.8888e-04 - val_loss: 2.4253e-04\n",
      "Epoch 56/60\n",
      "11/11 [==============================] - 5s 441ms/step - loss: 3.8277e-04 - val_loss: 3.5587e-04\n",
      "Epoch 57/60\n",
      "11/11 [==============================] - 5s 441ms/step - loss: 3.9018e-04 - val_loss: 2.1930e-04\n",
      "Epoch 58/60\n",
      "11/11 [==============================] - 5s 434ms/step - loss: 3.9579e-04 - val_loss: 2.3866e-04\n",
      "Epoch 59/60\n",
      "11/11 [==============================] - 5s 439ms/step - loss: 3.5183e-04 - val_loss: 2.1341e-04\n",
      "Epoch 60/60\n",
      "11/11 [==============================] - 5s 446ms/step - loss: 3.4410e-04 - val_loss: 2.1346e-04\n"
     ]
    },
    {
     "data": {
      "text/plain": [
       "<keras.src.callbacks.History at 0x1e316b30eb0>"
      ]
     },
     "execution_count": 21,
     "metadata": {},
     "output_type": "execute_result"
    }
   ],
   "source": [
    "model.fit(X_train,Y_train,validation_split=0.1,epochs=60, batch_size=64, verbose=1)"
   ]
  },
  {
   "cell_type": "code",
   "execution_count": 22,
   "id": "57ea412e",
   "metadata": {},
   "outputs": [
    {
     "name": "stdout",
     "output_type": "stream",
     "text": [
      "24/24 [==============================] - 5s 93ms/step\n",
      "9/9 [==============================] - 1s 85ms/step\n"
     ]
    }
   ],
   "source": [
    "train_predict=model.predict(X_train)\n",
    "test_predict=model.predict(X_test)"
   ]
  },
  {
   "cell_type": "code",
   "execution_count": 23,
   "id": "f27fa25b",
   "metadata": {},
   "outputs": [],
   "source": [
    "train_predict=scaler.inverse_transform(train_predict)\n",
    "test_predict=scaler.inverse_transform(test_predict)"
   ]
  },
  {
   "cell_type": "markdown",
   "id": "20ef4cfa",
   "metadata": {},
   "source": [
    "# Calculating the performance "
   ]
  },
  {
   "cell_type": "code",
   "execution_count": 24,
   "id": "065b9a33",
   "metadata": {},
   "outputs": [],
   "source": [
    "import math\n",
    "from sklearn.metrics import mean_squared_error"
   ]
  },
  {
   "cell_type": "code",
   "execution_count": 25,
   "id": "ced07868",
   "metadata": {},
   "outputs": [
    {
     "data": {
      "text/plain": [
       "141.50932381898798"
      ]
     },
     "execution_count": 25,
     "metadata": {},
     "output_type": "execute_result"
    }
   ],
   "source": [
    "math.sqrt(mean_squared_error(Y_train,train_predict))"
   ]
  },
  {
   "cell_type": "code",
   "execution_count": 26,
   "id": "97c4c9f6",
   "metadata": {},
   "outputs": [
    {
     "data": {
      "text/plain": [
       "252.33184129908014"
      ]
     },
     "execution_count": 26,
     "metadata": {},
     "output_type": "execute_result"
    }
   ],
   "source": [
    "math.sqrt(mean_squared_error(Y_test,test_predict))"
   ]
  },
  {
   "cell_type": "markdown",
   "id": "8f38ec24",
   "metadata": {},
   "source": [
    "plotting the graph with predicted train data, test data with actual data\n"
   ]
  },
  {
   "cell_type": "code",
   "execution_count": 27,
   "id": "17d3af12",
   "metadata": {},
   "outputs": [
    {
     "data": {
      "image/png": "[encoded data removed]",
      "text/plain": [
       "<Figure size 1000x700 with 1 Axes>"
      ]
     },
     "metadata": {},
     "output_type": "display_data"
    }
   ],
   "source": [
    "look_back=100\n",
    "trainPredictPlot=np.empty_like(close_sort_acc_date)\n",
    "trainPredictPlot[:,:]=np.nan\n",
    "trainPredictPlot[look_back:len(train_predict)+look_back,:]=train_predict\n",
    "\n",
    "testPredictPlot = np.empty_like(close_sort_acc_date)\n",
    "testPredictPlot[:,:]=np.nan\n",
    "testPredictPlot[len(train_predict)+(look_back*2)+1:len(close_sort_acc_date)-1,:]=test_predict\n",
    "\n",
    "plt.figure(figsize=(10,7))\n",
    "plt.plot(scaler.inverse_transform(close_sort_acc_date))\n",
    "plt.plot(trainPredictPlot)\n",
    "plt.plot(testPredictPlot)\n",
    "plt.show()"
   ]
  },
  {
   "cell_type": "code",
   "execution_count": 28,
   "id": "5c99b6f2",
   "metadata": {},
   "outputs": [
    {
     "data": {
      "text/plain": [
       "371"
      ]
     },
     "execution_count": 28,
     "metadata": {},
     "output_type": "execute_result"
    }
   ],
   "source": [
    "len(test_data)"
   ]
  },
  {
   "cell_type": "code",
   "execution_count": 29,
   "id": "266df496",
   "metadata": {},
   "outputs": [
    {
     "data": {
      "text/plain": [
       "(1, 100)"
      ]
     },
     "execution_count": 29,
     "metadata": {},
     "output_type": "execute_result"
    }
   ],
   "source": [
    "pred_input=test_data[271:].reshape(1,-1)\n",
    "pred_input.shape"
   ]
  },
  {
   "cell_type": "code",
   "execution_count": 30,
   "id": "7d93203a",
   "metadata": {},
   "outputs": [],
   "source": [
    "temp_input=list(pred_input)\n",
    "temp_input=temp_input[0].tolist()"
   ]
  },
  {
   "cell_type": "code",
   "execution_count": 31,
   "id": "607df16c",
   "metadata": {},
   "outputs": [
    {
     "data": {
      "text/plain": [
       "[0.6275212909009413,\n",
       " 0.6205737337516808,\n",
       " 0.6492604213357238,\n",
       " 0.6367099955177049,\n",
       " 0.6315553563424474,\n",
       " 0.6476916181084715,\n",
       " 0.6613626176602418,\n",
       " 0.680636485880771,\n",
       " 0.6956521739130435,\n",
       " 0.7082025997310621,\n",
       " 0.694083370685791,\n",
       " 0.7254594352308381,\n",
       " 0.7465262214253696,\n",
       " 0.7198565665620797,\n",
       " 0.6839982070820259,\n",
       " 0.722097714029583,\n",
       " 0.7310623038995965,\n",
       " 0.7371134020618557,\n",
       " 0.7364410578216045,\n",
       " 0.7218735992828327,\n",
       " 0.739354549529359,\n",
       " 0.7483191393993724,\n",
       " 0.7850739578664276,\n",
       " 0.7597489914836395,\n",
       " 0.7740923352756612,\n",
       " 0.7368892873151054,\n",
       " 0.7090990587180637,\n",
       " 0.6972209771402957,\n",
       " 0.714701927386822,\n",
       " 0.7254594352308381,\n",
       " 0.7382339757956073,\n",
       " 0.7303899596593455,\n",
       " 0.7229941730165843,\n",
       " 0.7471985656656208,\n",
       " 0.7252353204840878,\n",
       " 0.7994173016584492,\n",
       " 0.7828328103989242,\n",
       " 0.7557149260421334,\n",
       " 0.7335275661138503,\n",
       " 0.7736441057821604,\n",
       " 0.7714029583146571,\n",
       " 0.7492155983863737,\n",
       " 0.7285970416853427,\n",
       " 0.7003585835948003,\n",
       " 0.6302106678619452,\n",
       " 0.6510533393097264,\n",
       " 0.6095921111609144,\n",
       " 0.5847153742716269,\n",
       " 0.6093679964141641,\n",
       " 0.6304347826086956,\n",
       " 0.6438816674137158,\n",
       " 0.6017480950246525,\n",
       " 0.6116091438816673,\n",
       " 0.6257283729269385,\n",
       " 0.6255042581801882,\n",
       " 0.6465710443747199,\n",
       " 0.5961452263558942,\n",
       " 0.5952487673688927,\n",
       " 0.5916629314208874,\n",
       " 0.6134020618556699,\n",
       " 0.6048857014791573,\n",
       " 0.5992828328103987,\n",
       " 0.6035410129986554,\n",
       " 0.58673240699238,\n",
       " 0.5912147019273868,\n",
       " 0.604661586732407,\n",
       " 0.612729717615419,\n",
       " 0.6290900941281936,\n",
       " 0.6387270282384581,\n",
       " 0.6181084715374272,\n",
       " 0.5952487673688927,\n",
       " 0.5753025549081128,\n",
       " 0.6024204392649035,\n",
       " 0.5858359480053787,\n",
       " 0.5912147019273868,\n",
       " 0.5977140295831465,\n",
       " 0.5900941281936352,\n",
       " 0.6008516360376512,\n",
       " 0.5425818018825637,\n",
       " 0.5367548184670552,\n",
       " 0.5307037203047962,\n",
       " 0.5392200806813088,\n",
       " 0.5349619004930524,\n",
       " 0.5080681308830122,\n",
       " 0.5378753922008068,\n",
       " 0.5885253249663827,\n",
       " 0.6004034065441506,\n",
       " 0.5934558493948903,\n",
       " 0.5927835051546391,\n",
       " 0.5914388166741371,\n",
       " 0.5856118332586284,\n",
       " 0.5981622590766471,\n",
       " 0.5898700134468848,\n",
       " 0.5853877185118781,\n",
       " 0.5876288659793814,\n",
       " 0.5748543254146121,\n",
       " 0.56006275212909,\n",
       " 0.5179291797400267,\n",
       " 0.47758852532496626,\n",
       " 0.5042581801882564]"
      ]
     },
     "execution_count": 31,
     "metadata": {},
     "output_type": "execute_result"
    }
   ],
   "source": [
    "temp_input"
   ]
  },
  {
   "cell_type": "code",
   "execution_count": 32,
   "id": "09e69841",
   "metadata": {},
   "outputs": [
    {
     "name": "stdout",
     "output_type": "stream",
     "text": [
      "[0.49463284]\n",
      "101\n",
      "1 day input [0.62057373 0.64926042 0.63671    0.63155536 0.64769162 0.66136262\n",
      " 0.68063649 0.69565217 0.7082026  0.69408337 0.72545944 0.74652622\n",
      " 0.71985657 0.68399821 0.72209771 0.7310623  0.7371134  0.73644106\n",
      " 0.7218736  0.73935455 0.74831914 0.78507396 0.75974899 0.77409234\n",
      " 0.73688929 0.70909906 0.69722098 0.71470193 0.72545944 0.73823398\n",
      " 0.73038996 0.72299417 0.74719857 0.72523532 0.7994173  0.78283281\n",
      " 0.75571493 0.73352757 0.77364411 0.77140296 0.7492156  0.72859704\n",
      " 0.70035858 0.63021067 0.65105334 0.60959211 0.58471537 0.609368\n",
      " 0.63043478 0.64388167 0.6017481  0.61160914 0.62572837 0.62550426\n",
      " 0.64657104 0.59614523 0.59524877 0.59166293 0.61340206 0.6048857\n",
      " 0.59928283 0.60354101 0.58673241 0.5912147  0.60466159 0.61272972\n",
      " 0.62909009 0.63872703 0.61810847 0.59524877 0.57530255 0.60242044\n",
      " 0.58583595 0.5912147  0.59771403 0.59009413 0.60085164 0.5425818\n",
      " 0.53675482 0.53070372 0.53922008 0.5349619  0.50806813 0.53787539\n",
      " 0.58852532 0.60040341 0.59345585 0.59278351 0.59143882 0.58561183\n",
      " 0.59816226 0.58987001 0.58538772 0.58762887 0.57485433 0.56006275\n",
      " 0.51792918 0.47758853 0.50425818 0.49463284]\n",
      "1 day output [[0.48297226]]\n",
      "2 day input [0.64926042 0.63671    0.63155536 0.64769162 0.66136262 0.68063649\n",
      " 0.69565217 0.7082026  0.69408337 0.72545944 0.74652622 0.71985657\n",
      " 0.68399821 0.72209771 0.7310623  0.7371134  0.73644106 0.7218736\n",
      " 0.73935455 0.74831914 0.78507396 0.75974899 0.77409234 0.73688929\n",
      " 0.70909906 0.69722098 0.71470193 0.72545944 0.73823398 0.73038996\n",
      " 0.72299417 0.74719857 0.72523532 0.7994173  0.78283281 0.75571493\n",
      " 0.73352757 0.77364411 0.77140296 0.7492156  0.72859704 0.70035858\n",
      " 0.63021067 0.65105334 0.60959211 0.58471537 0.609368   0.63043478\n",
      " 0.64388167 0.6017481  0.61160914 0.62572837 0.62550426 0.64657104\n",
      " 0.59614523 0.59524877 0.59166293 0.61340206 0.6048857  0.59928283\n",
      " 0.60354101 0.58673241 0.5912147  0.60466159 0.61272972 0.62909009\n",
      " 0.63872703 0.61810847 0.59524877 0.57530255 0.60242044 0.58583595\n",
      " 0.5912147  0.59771403 0.59009413 0.60085164 0.5425818  0.53675482\n",
      " 0.53070372 0.53922008 0.5349619  0.50806813 0.53787539 0.58852532\n",
      " 0.60040341 0.59345585 0.59278351 0.59143882 0.58561183 0.59816226\n",
      " 0.58987001 0.58538772 0.58762887 0.57485433 0.56006275 0.51792918\n",
      " 0.47758853 0.50425818 0.49463284 0.48297226]\n",
      "2 day output [[0.4768997]]\n",
      "3 day input [0.63671    0.63155536 0.64769162 0.66136262 0.68063649 0.69565217\n",
      " 0.7082026  0.69408337 0.72545944 0.74652622 0.71985657 0.68399821\n",
      " 0.72209771 0.7310623  0.7371134  0.73644106 0.7218736  0.73935455\n",
      " 0.74831914 0.78507396 0.75974899 0.77409234 0.73688929 0.70909906\n",
      " 0.69722098 0.71470193 0.72545944 0.73823398 0.73038996 0.72299417\n",
      " 0.74719857 0.72523532 0.7994173  0.78283281 0.75571493 0.73352757\n",
      " 0.77364411 0.77140296 0.7492156  0.72859704 0.70035858 0.63021067\n",
      " 0.65105334 0.60959211 0.58471537 0.609368   0.63043478 0.64388167\n",
      " 0.6017481  0.61160914 0.62572837 0.62550426 0.64657104 0.59614523\n",
      " 0.59524877 0.59166293 0.61340206 0.6048857  0.59928283 0.60354101\n",
      " 0.58673241 0.5912147  0.60466159 0.61272972 0.62909009 0.63872703\n",
      " 0.61810847 0.59524877 0.57530255 0.60242044 0.58583595 0.5912147\n",
      " 0.59771403 0.59009413 0.60085164 0.5425818  0.53675482 0.53070372\n",
      " 0.53922008 0.5349619  0.50806813 0.53787539 0.58852532 0.60040341\n",
      " 0.59345585 0.59278351 0.59143882 0.58561183 0.59816226 0.58987001\n",
      " 0.58538772 0.58762887 0.57485433 0.56006275 0.51792918 0.47758853\n",
      " 0.50425818 0.49463284 0.48297226 0.47689971]\n",
      "3 day output [[0.47428212]]\n",
      "4 day input [0.63155536 0.64769162 0.66136262 0.68063649 0.69565217 0.7082026\n",
      " 0.69408337 0.72545944 0.74652622 0.71985657 0.68399821 0.72209771\n",
      " 0.7310623  0.7371134  0.73644106 0.7218736  0.73935455 0.74831914\n",
      " 0.78507396 0.75974899 0.77409234 0.73688929 0.70909906 0.69722098\n",
      " 0.71470193 0.72545944 0.73823398 0.73038996 0.72299417 0.74719857\n",
      " 0.72523532 0.7994173  0.78283281 0.75571493 0.73352757 0.77364411\n",
      " 0.77140296 0.7492156  0.72859704 0.70035858 0.63021067 0.65105334\n",
      " 0.60959211 0.58471537 0.609368   0.63043478 0.64388167 0.6017481\n",
      " 0.61160914 0.62572837 0.62550426 0.64657104 0.59614523 0.59524877\n",
      " 0.59166293 0.61340206 0.6048857  0.59928283 0.60354101 0.58673241\n",
      " 0.5912147  0.60466159 0.61272972 0.62909009 0.63872703 0.61810847\n",
      " 0.59524877 0.57530255 0.60242044 0.58583595 0.5912147  0.59771403\n",
      " 0.59009413 0.60085164 0.5425818  0.53675482 0.53070372 0.53922008\n",
      " 0.5349619  0.50806813 0.53787539 0.58852532 0.60040341 0.59345585\n",
      " 0.59278351 0.59143882 0.58561183 0.59816226 0.58987001 0.58538772\n",
      " 0.58762887 0.57485433 0.56006275 0.51792918 0.47758853 0.50425818\n",
      " 0.49463284 0.48297226 0.47689971 0.47428212]\n",
      "4 day output [[0.473844]]\n",
      "5 day input [0.64769162 0.66136262 0.68063649 0.69565217 0.7082026  0.69408337\n",
      " 0.72545944 0.74652622 0.71985657 0.68399821 0.72209771 0.7310623\n",
      " 0.7371134  0.73644106 0.7218736  0.73935455 0.74831914 0.78507396\n",
      " 0.75974899 0.77409234 0.73688929 0.70909906 0.69722098 0.71470193\n",
      " 0.72545944 0.73823398 0.73038996 0.72299417 0.74719857 0.72523532\n",
      " 0.7994173  0.78283281 0.75571493 0.73352757 0.77364411 0.77140296\n",
      " 0.7492156  0.72859704 0.70035858 0.63021067 0.65105334 0.60959211\n",
      " 0.58471537 0.609368   0.63043478 0.64388167 0.6017481  0.61160914\n",
      " 0.62572837 0.62550426 0.64657104 0.59614523 0.59524877 0.59166293\n",
      " 0.61340206 0.6048857  0.59928283 0.60354101 0.58673241 0.5912147\n",
      " 0.60466159 0.61272972 0.62909009 0.63872703 0.61810847 0.59524877\n",
      " 0.57530255 0.60242044 0.58583595 0.5912147  0.59771403 0.59009413\n",
      " 0.60085164 0.5425818  0.53675482 0.53070372 0.53922008 0.5349619\n",
      " 0.50806813 0.53787539 0.58852532 0.60040341 0.59345585 0.59278351\n",
      " 0.59143882 0.58561183 0.59816226 0.58987001 0.58538772 0.58762887\n",
      " 0.57485433 0.56006275 0.51792918 0.47758853 0.50425818 0.49463284\n",
      " 0.48297226 0.47689971 0.47428212 0.47384399]\n",
      "5 day output [[0.47488847]]\n",
      "6 day input [0.66136262 0.68063649 0.69565217 0.7082026  0.69408337 0.72545944\n",
      " 0.74652622 0.71985657 0.68399821 0.72209771 0.7310623  0.7371134\n",
      " 0.73644106 0.7218736  0.73935455 0.74831914 0.78507396 0.75974899\n",
      " 0.77409234 0.73688929 0.70909906 0.69722098 0.71470193 0.72545944\n",
      " 0.73823398 0.73038996 0.72299417 0.74719857 0.72523532 0.7994173\n",
      " 0.78283281 0.75571493 0.73352757 0.77364411 0.77140296 0.7492156\n",
      " 0.72859704 0.70035858 0.63021067 0.65105334 0.60959211 0.58471537\n",
      " 0.609368   0.63043478 0.64388167 0.6017481  0.61160914 0.62572837\n",
      " 0.62550426 0.64657104 0.59614523 0.59524877 0.59166293 0.61340206\n",
      " 0.6048857  0.59928283 0.60354101 0.58673241 0.5912147  0.60466159\n",
      " 0.61272972 0.62909009 0.63872703 0.61810847 0.59524877 0.57530255\n",
      " 0.60242044 0.58583595 0.5912147  0.59771403 0.59009413 0.60085164\n",
      " 0.5425818  0.53675482 0.53070372 0.53922008 0.5349619  0.50806813\n",
      " 0.53787539 0.58852532 0.60040341 0.59345585 0.59278351 0.59143882\n",
      " 0.58561183 0.59816226 0.58987001 0.58538772 0.58762887 0.57485433\n",
      " 0.56006275 0.51792918 0.47758853 0.50425818 0.49463284 0.48297226\n",
      " 0.47689971 0.47428212 0.47384399 0.47488847]\n",
      "6 day output [[0.47698343]]\n",
      "7 day input [0.68063649 0.69565217 0.7082026  0.69408337 0.72545944 0.74652622\n",
      " 0.71985657 0.68399821 0.72209771 0.7310623  0.7371134  0.73644106\n",
      " 0.7218736  0.73935455 0.74831914 0.78507396 0.75974899 0.77409234\n",
      " 0.73688929 0.70909906 0.69722098 0.71470193 0.72545944 0.73823398\n",
      " 0.73038996 0.72299417 0.74719857 0.72523532 0.7994173  0.78283281\n",
      " 0.75571493 0.73352757 0.77364411 0.77140296 0.7492156  0.72859704\n",
      " 0.70035858 0.63021067 0.65105334 0.60959211 0.58471537 0.609368\n",
      " 0.63043478 0.64388167 0.6017481  0.61160914 0.62572837 0.62550426\n",
      " 0.64657104 0.59614523 0.59524877 0.59166293 0.61340206 0.6048857\n",
      " 0.59928283 0.60354101 0.58673241 0.5912147  0.60466159 0.61272972\n",
      " 0.62909009 0.63872703 0.61810847 0.59524877 0.57530255 0.60242044\n",
      " 0.58583595 0.5912147  0.59771403 0.59009413 0.60085164 0.5425818\n",
      " 0.53675482 0.53070372 0.53922008 0.5349619  0.50806813 0.53787539\n",
      " 0.58852532 0.60040341 0.59345585 0.59278351 0.59143882 0.58561183\n",
      " 0.59816226 0.58987001 0.58538772 0.58762887 0.57485433 0.56006275\n",
      " 0.51792918 0.47758853 0.50425818 0.49463284 0.48297226 0.47689971\n",
      " 0.47428212 0.47384399 0.47488847 0.47698343]\n",
      "7 day output [[0.4797859]]\n",
      "8 day input [0.69565217 0.7082026  0.69408337 0.72545944 0.74652622 0.71985657\n",
      " 0.68399821 0.72209771 0.7310623  0.7371134  0.73644106 0.7218736\n",
      " 0.73935455 0.74831914 0.78507396 0.75974899 0.77409234 0.73688929\n",
      " 0.70909906 0.69722098 0.71470193 0.72545944 0.73823398 0.73038996\n",
      " 0.72299417 0.74719857 0.72523532 0.7994173  0.78283281 0.75571493\n",
      " 0.73352757 0.77364411 0.77140296 0.7492156  0.72859704 0.70035858\n",
      " 0.63021067 0.65105334 0.60959211 0.58471537 0.609368   0.63043478\n",
      " 0.64388167 0.6017481  0.61160914 0.62572837 0.62550426 0.64657104\n",
      " 0.59614523 0.59524877 0.59166293 0.61340206 0.6048857  0.59928283\n",
      " 0.60354101 0.58673241 0.5912147  0.60466159 0.61272972 0.62909009\n",
      " 0.63872703 0.61810847 0.59524877 0.57530255 0.60242044 0.58583595\n",
      " 0.5912147  0.59771403 0.59009413 0.60085164 0.5425818  0.53675482\n",
      " 0.53070372 0.53922008 0.5349619  0.50806813 0.53787539 0.58852532\n",
      " 0.60040341 0.59345585 0.59278351 0.59143882 0.58561183 0.59816226\n",
      " 0.58987001 0.58538772 0.58762887 0.57485433 0.56006275 0.51792918\n",
      " 0.47758853 0.50425818 0.49463284 0.48297226 0.47689971 0.47428212\n",
      " 0.47384399 0.47488847 0.47698343 0.47978589]\n"
     ]
    },
    {
     "name": "stdout",
     "output_type": "stream",
     "text": [
      "8 day output [[0.48297814]]\n",
      "9 day input [0.7082026  0.69408337 0.72545944 0.74652622 0.71985657 0.68399821\n",
      " 0.72209771 0.7310623  0.7371134  0.73644106 0.7218736  0.73935455\n",
      " 0.74831914 0.78507396 0.75974899 0.77409234 0.73688929 0.70909906\n",
      " 0.69722098 0.71470193 0.72545944 0.73823398 0.73038996 0.72299417\n",
      " 0.74719857 0.72523532 0.7994173  0.78283281 0.75571493 0.73352757\n",
      " 0.77364411 0.77140296 0.7492156  0.72859704 0.70035858 0.63021067\n",
      " 0.65105334 0.60959211 0.58471537 0.609368   0.63043478 0.64388167\n",
      " 0.6017481  0.61160914 0.62572837 0.62550426 0.64657104 0.59614523\n",
      " 0.59524877 0.59166293 0.61340206 0.6048857  0.59928283 0.60354101\n",
      " 0.58673241 0.5912147  0.60466159 0.61272972 0.62909009 0.63872703\n",
      " 0.61810847 0.59524877 0.57530255 0.60242044 0.58583595 0.5912147\n",
      " 0.59771403 0.59009413 0.60085164 0.5425818  0.53675482 0.53070372\n",
      " 0.53922008 0.5349619  0.50806813 0.53787539 0.58852532 0.60040341\n",
      " 0.59345585 0.59278351 0.59143882 0.58561183 0.59816226 0.58987001\n",
      " 0.58538772 0.58762887 0.57485433 0.56006275 0.51792918 0.47758853\n",
      " 0.50425818 0.49463284 0.48297226 0.47689971 0.47428212 0.47384399\n",
      " 0.47488847 0.47698343 0.47978589 0.48297814]\n",
      "9 day output [[0.48626134]]\n",
      "10 day input [0.69408337 0.72545944 0.74652622 0.71985657 0.68399821 0.72209771\n",
      " 0.7310623  0.7371134  0.73644106 0.7218736  0.73935455 0.74831914\n",
      " 0.78507396 0.75974899 0.77409234 0.73688929 0.70909906 0.69722098\n",
      " 0.71470193 0.72545944 0.73823398 0.73038996 0.72299417 0.74719857\n",
      " 0.72523532 0.7994173  0.78283281 0.75571493 0.73352757 0.77364411\n",
      " 0.77140296 0.7492156  0.72859704 0.70035858 0.63021067 0.65105334\n",
      " 0.60959211 0.58471537 0.609368   0.63043478 0.64388167 0.6017481\n",
      " 0.61160914 0.62572837 0.62550426 0.64657104 0.59614523 0.59524877\n",
      " 0.59166293 0.61340206 0.6048857  0.59928283 0.60354101 0.58673241\n",
      " 0.5912147  0.60466159 0.61272972 0.62909009 0.63872703 0.61810847\n",
      " 0.59524877 0.57530255 0.60242044 0.58583595 0.5912147  0.59771403\n",
      " 0.59009413 0.60085164 0.5425818  0.53675482 0.53070372 0.53922008\n",
      " 0.5349619  0.50806813 0.53787539 0.58852532 0.60040341 0.59345585\n",
      " 0.59278351 0.59143882 0.58561183 0.59816226 0.58987001 0.58538772\n",
      " 0.58762887 0.57485433 0.56006275 0.51792918 0.47758853 0.50425818\n",
      " 0.49463284 0.48297226 0.47689971 0.47428212 0.47384399 0.47488847\n",
      " 0.47698343 0.47978589 0.48297814 0.48626134]\n",
      "10 day output [[0.48936597]]\n",
      "11 day input [0.72545944 0.74652622 0.71985657 0.68399821 0.72209771 0.7310623\n",
      " 0.7371134  0.73644106 0.7218736  0.73935455 0.74831914 0.78507396\n",
      " 0.75974899 0.77409234 0.73688929 0.70909906 0.69722098 0.71470193\n",
      " 0.72545944 0.73823398 0.73038996 0.72299417 0.74719857 0.72523532\n",
      " 0.7994173  0.78283281 0.75571493 0.73352757 0.77364411 0.77140296\n",
      " 0.7492156  0.72859704 0.70035858 0.63021067 0.65105334 0.60959211\n",
      " 0.58471537 0.609368   0.63043478 0.64388167 0.6017481  0.61160914\n",
      " 0.62572837 0.62550426 0.64657104 0.59614523 0.59524877 0.59166293\n",
      " 0.61340206 0.6048857  0.59928283 0.60354101 0.58673241 0.5912147\n",
      " 0.60466159 0.61272972 0.62909009 0.63872703 0.61810847 0.59524877\n",
      " 0.57530255 0.60242044 0.58583595 0.5912147  0.59771403 0.59009413\n",
      " 0.60085164 0.5425818  0.53675482 0.53070372 0.53922008 0.5349619\n",
      " 0.50806813 0.53787539 0.58852532 0.60040341 0.59345585 0.59278351\n",
      " 0.59143882 0.58561183 0.59816226 0.58987001 0.58538772 0.58762887\n",
      " 0.57485433 0.56006275 0.51792918 0.47758853 0.50425818 0.49463284\n",
      " 0.48297226 0.47689971 0.47428212 0.47384399 0.47488847 0.47698343\n",
      " 0.47978589 0.48297814 0.48626134 0.48936597]\n",
      "11 day output [[0.49206477]]\n",
      "12 day input [0.74652622 0.71985657 0.68399821 0.72209771 0.7310623  0.7371134\n",
      " 0.73644106 0.7218736  0.73935455 0.74831914 0.78507396 0.75974899\n",
      " 0.77409234 0.73688929 0.70909906 0.69722098 0.71470193 0.72545944\n",
      " 0.73823398 0.73038996 0.72299417 0.74719857 0.72523532 0.7994173\n",
      " 0.78283281 0.75571493 0.73352757 0.77364411 0.77140296 0.7492156\n",
      " 0.72859704 0.70035858 0.63021067 0.65105334 0.60959211 0.58471537\n",
      " 0.609368   0.63043478 0.64388167 0.6017481  0.61160914 0.62572837\n",
      " 0.62550426 0.64657104 0.59614523 0.59524877 0.59166293 0.61340206\n",
      " 0.6048857  0.59928283 0.60354101 0.58673241 0.5912147  0.60466159\n",
      " 0.61272972 0.62909009 0.63872703 0.61810847 0.59524877 0.57530255\n",
      " 0.60242044 0.58583595 0.5912147  0.59771403 0.59009413 0.60085164\n",
      " 0.5425818  0.53675482 0.53070372 0.53922008 0.5349619  0.50806813\n",
      " 0.53787539 0.58852532 0.60040341 0.59345585 0.59278351 0.59143882\n",
      " 0.58561183 0.59816226 0.58987001 0.58538772 0.58762887 0.57485433\n",
      " 0.56006275 0.51792918 0.47758853 0.50425818 0.49463284 0.48297226\n",
      " 0.47689971 0.47428212 0.47384399 0.47488847 0.47698343 0.47978589\n",
      " 0.48297814 0.48626134 0.48936597 0.49206477]\n",
      "12 day output [[0.49418113]]\n",
      "13 day input [0.71985657 0.68399821 0.72209771 0.7310623  0.7371134  0.73644106\n",
      " 0.7218736  0.73935455 0.74831914 0.78507396 0.75974899 0.77409234\n",
      " 0.73688929 0.70909906 0.69722098 0.71470193 0.72545944 0.73823398\n",
      " 0.73038996 0.72299417 0.74719857 0.72523532 0.7994173  0.78283281\n",
      " 0.75571493 0.73352757 0.77364411 0.77140296 0.7492156  0.72859704\n",
      " 0.70035858 0.63021067 0.65105334 0.60959211 0.58471537 0.609368\n",
      " 0.63043478 0.64388167 0.6017481  0.61160914 0.62572837 0.62550426\n",
      " 0.64657104 0.59614523 0.59524877 0.59166293 0.61340206 0.6048857\n",
      " 0.59928283 0.60354101 0.58673241 0.5912147  0.60466159 0.61272972\n",
      " 0.62909009 0.63872703 0.61810847 0.59524877 0.57530255 0.60242044\n",
      " 0.58583595 0.5912147  0.59771403 0.59009413 0.60085164 0.5425818\n",
      " 0.53675482 0.53070372 0.53922008 0.5349619  0.50806813 0.53787539\n",
      " 0.58852532 0.60040341 0.59345585 0.59278351 0.59143882 0.58561183\n",
      " 0.59816226 0.58987001 0.58538772 0.58762887 0.57485433 0.56006275\n",
      " 0.51792918 0.47758853 0.50425818 0.49463284 0.48297226 0.47689971\n",
      " 0.47428212 0.47384399 0.47488847 0.47698343 0.47978589 0.48297814\n",
      " 0.48626134 0.48936597 0.49206477 0.49418113]\n",
      "13 day output [[0.4955933]]\n",
      "14 day input [0.68399821 0.72209771 0.7310623  0.7371134  0.73644106 0.7218736\n",
      " 0.73935455 0.74831914 0.78507396 0.75974899 0.77409234 0.73688929\n",
      " 0.70909906 0.69722098 0.71470193 0.72545944 0.73823398 0.73038996\n",
      " 0.72299417 0.74719857 0.72523532 0.7994173  0.78283281 0.75571493\n",
      " 0.73352757 0.77364411 0.77140296 0.7492156  0.72859704 0.70035858\n",
      " 0.63021067 0.65105334 0.60959211 0.58471537 0.609368   0.63043478\n",
      " 0.64388167 0.6017481  0.61160914 0.62572837 0.62550426 0.64657104\n",
      " 0.59614523 0.59524877 0.59166293 0.61340206 0.6048857  0.59928283\n",
      " 0.60354101 0.58673241 0.5912147  0.60466159 0.61272972 0.62909009\n",
      " 0.63872703 0.61810847 0.59524877 0.57530255 0.60242044 0.58583595\n",
      " 0.5912147  0.59771403 0.59009413 0.60085164 0.5425818  0.53675482\n",
      " 0.53070372 0.53922008 0.5349619  0.50806813 0.53787539 0.58852532\n",
      " 0.60040341 0.59345585 0.59278351 0.59143882 0.58561183 0.59816226\n",
      " 0.58987001 0.58538772 0.58762887 0.57485433 0.56006275 0.51792918\n",
      " 0.47758853 0.50425818 0.49463284 0.48297226 0.47689971 0.47428212\n",
      " 0.47384399 0.47488847 0.47698343 0.47978589 0.48297814 0.48626134\n",
      " 0.48936597 0.49206477 0.49418113 0.49559331]\n",
      "14 day output [[0.4962336]]\n",
      "15 day input [0.72209771 0.7310623  0.7371134  0.73644106 0.7218736  0.73935455\n",
      " 0.74831914 0.78507396 0.75974899 0.77409234 0.73688929 0.70909906\n",
      " 0.69722098 0.71470193 0.72545944 0.73823398 0.73038996 0.72299417\n",
      " 0.74719857 0.72523532 0.7994173  0.78283281 0.75571493 0.73352757\n",
      " 0.77364411 0.77140296 0.7492156  0.72859704 0.70035858 0.63021067\n",
      " 0.65105334 0.60959211 0.58471537 0.609368   0.63043478 0.64388167\n",
      " 0.6017481  0.61160914 0.62572837 0.62550426 0.64657104 0.59614523\n",
      " 0.59524877 0.59166293 0.61340206 0.6048857  0.59928283 0.60354101\n",
      " 0.58673241 0.5912147  0.60466159 0.61272972 0.62909009 0.63872703\n",
      " 0.61810847 0.59524877 0.57530255 0.60242044 0.58583595 0.5912147\n",
      " 0.59771403 0.59009413 0.60085164 0.5425818  0.53675482 0.53070372\n",
      " 0.53922008 0.5349619  0.50806813 0.53787539 0.58852532 0.60040341\n",
      " 0.59345585 0.59278351 0.59143882 0.58561183 0.59816226 0.58987001\n",
      " 0.58538772 0.58762887 0.57485433 0.56006275 0.51792918 0.47758853\n",
      " 0.50425818 0.49463284 0.48297226 0.47689971 0.47428212 0.47384399\n",
      " 0.47488847 0.47698343 0.47978589 0.48297814 0.48626134 0.48936597\n",
      " 0.49206477 0.49418113 0.49559331 0.49623361]\n",
      "15 day output [[0.49608546]]\n",
      "16 day input [0.7310623  0.7371134  0.73644106 0.7218736  0.73935455 0.74831914\n",
      " 0.78507396 0.75974899 0.77409234 0.73688929 0.70909906 0.69722098\n",
      " 0.71470193 0.72545944 0.73823398 0.73038996 0.72299417 0.74719857\n",
      " 0.72523532 0.7994173  0.78283281 0.75571493 0.73352757 0.77364411\n",
      " 0.77140296 0.7492156  0.72859704 0.70035858 0.63021067 0.65105334\n",
      " 0.60959211 0.58471537 0.609368   0.63043478 0.64388167 0.6017481\n",
      " 0.61160914 0.62572837 0.62550426 0.64657104 0.59614523 0.59524877\n",
      " 0.59166293 0.61340206 0.6048857  0.59928283 0.60354101 0.58673241\n",
      " 0.5912147  0.60466159 0.61272972 0.62909009 0.63872703 0.61810847\n",
      " 0.59524877 0.57530255 0.60242044 0.58583595 0.5912147  0.59771403\n",
      " 0.59009413 0.60085164 0.5425818  0.53675482 0.53070372 0.53922008\n",
      " 0.5349619  0.50806813 0.53787539 0.58852532 0.60040341 0.59345585\n",
      " 0.59278351 0.59143882 0.58561183 0.59816226 0.58987001 0.58538772\n",
      " 0.58762887 0.57485433 0.56006275 0.51792918 0.47758853 0.50425818\n",
      " 0.49463284 0.48297226 0.47689971 0.47428212 0.47384399 0.47488847\n",
      " 0.47698343 0.47978589 0.48297814 0.48626134 0.48936597 0.49206477\n",
      " 0.49418113 0.49559331 0.49623361 0.49608546]\n"
     ]
    },
    {
     "name": "stdout",
     "output_type": "stream",
     "text": [
      "16 day output [[0.49517792]]\n",
      "17 day input [0.7371134  0.73644106 0.7218736  0.73935455 0.74831914 0.78507396\n",
      " 0.75974899 0.77409234 0.73688929 0.70909906 0.69722098 0.71470193\n",
      " 0.72545944 0.73823398 0.73038996 0.72299417 0.74719857 0.72523532\n",
      " 0.7994173  0.78283281 0.75571493 0.73352757 0.77364411 0.77140296\n",
      " 0.7492156  0.72859704 0.70035858 0.63021067 0.65105334 0.60959211\n",
      " 0.58471537 0.609368   0.63043478 0.64388167 0.6017481  0.61160914\n",
      " 0.62572837 0.62550426 0.64657104 0.59614523 0.59524877 0.59166293\n",
      " 0.61340206 0.6048857  0.59928283 0.60354101 0.58673241 0.5912147\n",
      " 0.60466159 0.61272972 0.62909009 0.63872703 0.61810847 0.59524877\n",
      " 0.57530255 0.60242044 0.58583595 0.5912147  0.59771403 0.59009413\n",
      " 0.60085164 0.5425818  0.53675482 0.53070372 0.53922008 0.5349619\n",
      " 0.50806813 0.53787539 0.58852532 0.60040341 0.59345585 0.59278351\n",
      " 0.59143882 0.58561183 0.59816226 0.58987001 0.58538772 0.58762887\n",
      " 0.57485433 0.56006275 0.51792918 0.47758853 0.50425818 0.49463284\n",
      " 0.48297226 0.47689971 0.47428212 0.47384399 0.47488847 0.47698343\n",
      " 0.47978589 0.48297814 0.48626134 0.48936597 0.49206477 0.49418113\n",
      " 0.49559331 0.49623361 0.49608546 0.49517792]\n",
      "17 day output [[0.49357712]]\n",
      "18 day input [0.73644106 0.7218736  0.73935455 0.74831914 0.78507396 0.75974899\n",
      " 0.77409234 0.73688929 0.70909906 0.69722098 0.71470193 0.72545944\n",
      " 0.73823398 0.73038996 0.72299417 0.74719857 0.72523532 0.7994173\n",
      " 0.78283281 0.75571493 0.73352757 0.77364411 0.77140296 0.7492156\n",
      " 0.72859704 0.70035858 0.63021067 0.65105334 0.60959211 0.58471537\n",
      " 0.609368   0.63043478 0.64388167 0.6017481  0.61160914 0.62572837\n",
      " 0.62550426 0.64657104 0.59614523 0.59524877 0.59166293 0.61340206\n",
      " 0.6048857  0.59928283 0.60354101 0.58673241 0.5912147  0.60466159\n",
      " 0.61272972 0.62909009 0.63872703 0.61810847 0.59524877 0.57530255\n",
      " 0.60242044 0.58583595 0.5912147  0.59771403 0.59009413 0.60085164\n",
      " 0.5425818  0.53675482 0.53070372 0.53922008 0.5349619  0.50806813\n",
      " 0.53787539 0.58852532 0.60040341 0.59345585 0.59278351 0.59143882\n",
      " 0.58561183 0.59816226 0.58987001 0.58538772 0.58762887 0.57485433\n",
      " 0.56006275 0.51792918 0.47758853 0.50425818 0.49463284 0.48297226\n",
      " 0.47689971 0.47428212 0.47384399 0.47488847 0.47698343 0.47978589\n",
      " 0.48297814 0.48626134 0.48936597 0.49206477 0.49418113 0.49559331\n",
      " 0.49623361 0.49608546 0.49517792 0.49357712]\n",
      "18 day output [[0.49137866]]\n",
      "19 day input [0.7218736  0.73935455 0.74831914 0.78507396 0.75974899 0.77409234\n",
      " 0.73688929 0.70909906 0.69722098 0.71470193 0.72545944 0.73823398\n",
      " 0.73038996 0.72299417 0.74719857 0.72523532 0.7994173  0.78283281\n",
      " 0.75571493 0.73352757 0.77364411 0.77140296 0.7492156  0.72859704\n",
      " 0.70035858 0.63021067 0.65105334 0.60959211 0.58471537 0.609368\n",
      " 0.63043478 0.64388167 0.6017481  0.61160914 0.62572837 0.62550426\n",
      " 0.64657104 0.59614523 0.59524877 0.59166293 0.61340206 0.6048857\n",
      " 0.59928283 0.60354101 0.58673241 0.5912147  0.60466159 0.61272972\n",
      " 0.62909009 0.63872703 0.61810847 0.59524877 0.57530255 0.60242044\n",
      " 0.58583595 0.5912147  0.59771403 0.59009413 0.60085164 0.5425818\n",
      " 0.53675482 0.53070372 0.53922008 0.5349619  0.50806813 0.53787539\n",
      " 0.58852532 0.60040341 0.59345585 0.59278351 0.59143882 0.58561183\n",
      " 0.59816226 0.58987001 0.58538772 0.58762887 0.57485433 0.56006275\n",
      " 0.51792918 0.47758853 0.50425818 0.49463284 0.48297226 0.47689971\n",
      " 0.47428212 0.47384399 0.47488847 0.47698343 0.47978589 0.48297814\n",
      " 0.48626134 0.48936597 0.49206477 0.49418113 0.49559331 0.49623361\n",
      " 0.49608546 0.49517792 0.49357712 0.49137866]\n",
      "19 day output [[0.48869732]]\n",
      "20 day input [0.73935455 0.74831914 0.78507396 0.75974899 0.77409234 0.73688929\n",
      " 0.70909906 0.69722098 0.71470193 0.72545944 0.73823398 0.73038996\n",
      " 0.72299417 0.74719857 0.72523532 0.7994173  0.78283281 0.75571493\n",
      " 0.73352757 0.77364411 0.77140296 0.7492156  0.72859704 0.70035858\n",
      " 0.63021067 0.65105334 0.60959211 0.58471537 0.609368   0.63043478\n",
      " 0.64388167 0.6017481  0.61160914 0.62572837 0.62550426 0.64657104\n",
      " 0.59614523 0.59524877 0.59166293 0.61340206 0.6048857  0.59928283\n",
      " 0.60354101 0.58673241 0.5912147  0.60466159 0.61272972 0.62909009\n",
      " 0.63872703 0.61810847 0.59524877 0.57530255 0.60242044 0.58583595\n",
      " 0.5912147  0.59771403 0.59009413 0.60085164 0.5425818  0.53675482\n",
      " 0.53070372 0.53922008 0.5349619  0.50806813 0.53787539 0.58852532\n",
      " 0.60040341 0.59345585 0.59278351 0.59143882 0.58561183 0.59816226\n",
      " 0.58987001 0.58538772 0.58762887 0.57485433 0.56006275 0.51792918\n",
      " 0.47758853 0.50425818 0.49463284 0.48297226 0.47689971 0.47428212\n",
      " 0.47384399 0.47488847 0.47698343 0.47978589 0.48297814 0.48626134\n",
      " 0.48936597 0.49206477 0.49418113 0.49559331 0.49623361 0.49608546\n",
      " 0.49517792 0.49357712 0.49137866 0.48869732]\n",
      "20 day output [[0.4856584]]\n",
      "21 day input [0.74831914 0.78507396 0.75974899 0.77409234 0.73688929 0.70909906\n",
      " 0.69722098 0.71470193 0.72545944 0.73823398 0.73038996 0.72299417\n",
      " 0.74719857 0.72523532 0.7994173  0.78283281 0.75571493 0.73352757\n",
      " 0.77364411 0.77140296 0.7492156  0.72859704 0.70035858 0.63021067\n",
      " 0.65105334 0.60959211 0.58471537 0.609368   0.63043478 0.64388167\n",
      " 0.6017481  0.61160914 0.62572837 0.62550426 0.64657104 0.59614523\n",
      " 0.59524877 0.59166293 0.61340206 0.6048857  0.59928283 0.60354101\n",
      " 0.58673241 0.5912147  0.60466159 0.61272972 0.62909009 0.63872703\n",
      " 0.61810847 0.59524877 0.57530255 0.60242044 0.58583595 0.5912147\n",
      " 0.59771403 0.59009413 0.60085164 0.5425818  0.53675482 0.53070372\n",
      " 0.53922008 0.5349619  0.50806813 0.53787539 0.58852532 0.60040341\n",
      " 0.59345585 0.59278351 0.59143882 0.58561183 0.59816226 0.58987001\n",
      " 0.58538772 0.58762887 0.57485433 0.56006275 0.51792918 0.47758853\n",
      " 0.50425818 0.49463284 0.48297226 0.47689971 0.47428212 0.47384399\n",
      " 0.47488847 0.47698343 0.47978589 0.48297814 0.48626134 0.48936597\n",
      " 0.49206477 0.49418113 0.49559331 0.49623361 0.49608546 0.49517792\n",
      " 0.49357712 0.49137866 0.48869732 0.48565841]\n",
      "21 day output [[0.48238865]]\n",
      "22 day input [0.78507396 0.75974899 0.77409234 0.73688929 0.70909906 0.69722098\n",
      " 0.71470193 0.72545944 0.73823398 0.73038996 0.72299417 0.74719857\n",
      " 0.72523532 0.7994173  0.78283281 0.75571493 0.73352757 0.77364411\n",
      " 0.77140296 0.7492156  0.72859704 0.70035858 0.63021067 0.65105334\n",
      " 0.60959211 0.58471537 0.609368   0.63043478 0.64388167 0.6017481\n",
      " 0.61160914 0.62572837 0.62550426 0.64657104 0.59614523 0.59524877\n",
      " 0.59166293 0.61340206 0.6048857  0.59928283 0.60354101 0.58673241\n",
      " 0.5912147  0.60466159 0.61272972 0.62909009 0.63872703 0.61810847\n",
      " 0.59524877 0.57530255 0.60242044 0.58583595 0.5912147  0.59771403\n",
      " 0.59009413 0.60085164 0.5425818  0.53675482 0.53070372 0.53922008\n",
      " 0.5349619  0.50806813 0.53787539 0.58852532 0.60040341 0.59345585\n",
      " 0.59278351 0.59143882 0.58561183 0.59816226 0.58987001 0.58538772\n",
      " 0.58762887 0.57485433 0.56006275 0.51792918 0.47758853 0.50425818\n",
      " 0.49463284 0.48297226 0.47689971 0.47428212 0.47384399 0.47488847\n",
      " 0.47698343 0.47978589 0.48297814 0.48626134 0.48936597 0.49206477\n",
      " 0.49418113 0.49559331 0.49623361 0.49608546 0.49517792 0.49357712\n",
      " 0.49137866 0.48869732 0.48565841 0.48238865]\n",
      "22 day output [[0.47900975]]\n",
      "23 day input [0.75974899 0.77409234 0.73688929 0.70909906 0.69722098 0.71470193\n",
      " 0.72545944 0.73823398 0.73038996 0.72299417 0.74719857 0.72523532\n",
      " 0.7994173  0.78283281 0.75571493 0.73352757 0.77364411 0.77140296\n",
      " 0.7492156  0.72859704 0.70035858 0.63021067 0.65105334 0.60959211\n",
      " 0.58471537 0.609368   0.63043478 0.64388167 0.6017481  0.61160914\n",
      " 0.62572837 0.62550426 0.64657104 0.59614523 0.59524877 0.59166293\n",
      " 0.61340206 0.6048857  0.59928283 0.60354101 0.58673241 0.5912147\n",
      " 0.60466159 0.61272972 0.62909009 0.63872703 0.61810847 0.59524877\n",
      " 0.57530255 0.60242044 0.58583595 0.5912147  0.59771403 0.59009413\n",
      " 0.60085164 0.5425818  0.53675482 0.53070372 0.53922008 0.5349619\n",
      " 0.50806813 0.53787539 0.58852532 0.60040341 0.59345585 0.59278351\n",
      " 0.59143882 0.58561183 0.59816226 0.58987001 0.58538772 0.58762887\n",
      " 0.57485433 0.56006275 0.51792918 0.47758853 0.50425818 0.49463284\n",
      " 0.48297226 0.47689971 0.47428212 0.47384399 0.47488847 0.47698343\n",
      " 0.47978589 0.48297814 0.48626134 0.48936597 0.49206477 0.49418113\n",
      " 0.49559331 0.49623361 0.49608546 0.49517792 0.49357712 0.49137866\n",
      " 0.48869732 0.48565841 0.48238865 0.47900975]\n",
      "23 day output [[0.47563073]]\n",
      "24 day input [0.77409234 0.73688929 0.70909906 0.69722098 0.71470193 0.72545944\n",
      " 0.73823398 0.73038996 0.72299417 0.74719857 0.72523532 0.7994173\n",
      " 0.78283281 0.75571493 0.73352757 0.77364411 0.77140296 0.7492156\n",
      " 0.72859704 0.70035858 0.63021067 0.65105334 0.60959211 0.58471537\n",
      " 0.609368   0.63043478 0.64388167 0.6017481  0.61160914 0.62572837\n",
      " 0.62550426 0.64657104 0.59614523 0.59524877 0.59166293 0.61340206\n",
      " 0.6048857  0.59928283 0.60354101 0.58673241 0.5912147  0.60466159\n",
      " 0.61272972 0.62909009 0.63872703 0.61810847 0.59524877 0.57530255\n",
      " 0.60242044 0.58583595 0.5912147  0.59771403 0.59009413 0.60085164\n",
      " 0.5425818  0.53675482 0.53070372 0.53922008 0.5349619  0.50806813\n",
      " 0.53787539 0.58852532 0.60040341 0.59345585 0.59278351 0.59143882\n",
      " 0.58561183 0.59816226 0.58987001 0.58538772 0.58762887 0.57485433\n",
      " 0.56006275 0.51792918 0.47758853 0.50425818 0.49463284 0.48297226\n",
      " 0.47689971 0.47428212 0.47384399 0.47488847 0.47698343 0.47978589\n",
      " 0.48297814 0.48626134 0.48936597 0.49206477 0.49418113 0.49559331\n",
      " 0.49623361 0.49608546 0.49517792 0.49357712 0.49137866 0.48869732\n",
      " 0.48565841 0.48238865 0.47900975 0.47563073]\n",
      "24 day output [[0.47234562]]\n",
      "25 day input [0.73688929 0.70909906 0.69722098 0.71470193 0.72545944 0.73823398\n",
      " 0.73038996 0.72299417 0.74719857 0.72523532 0.7994173  0.78283281\n",
      " 0.75571493 0.73352757 0.77364411 0.77140296 0.7492156  0.72859704\n",
      " 0.70035858 0.63021067 0.65105334 0.60959211 0.58471537 0.609368\n",
      " 0.63043478 0.64388167 0.6017481  0.61160914 0.62572837 0.62550426\n",
      " 0.64657104 0.59614523 0.59524877 0.59166293 0.61340206 0.6048857\n",
      " 0.59928283 0.60354101 0.58673241 0.5912147  0.60466159 0.61272972\n",
      " 0.62909009 0.63872703 0.61810847 0.59524877 0.57530255 0.60242044\n",
      " 0.58583595 0.5912147  0.59771403 0.59009413 0.60085164 0.5425818\n",
      " 0.53675482 0.53070372 0.53922008 0.5349619  0.50806813 0.53787539\n",
      " 0.58852532 0.60040341 0.59345585 0.59278351 0.59143882 0.58561183\n",
      " 0.59816226 0.58987001 0.58538772 0.58762887 0.57485433 0.56006275\n",
      " 0.51792918 0.47758853 0.50425818 0.49463284 0.48297226 0.47689971\n",
      " 0.47428212 0.47384399 0.47488847 0.47698343 0.47978589 0.48297814\n",
      " 0.48626134 0.48936597 0.49206477 0.49418113 0.49559331 0.49623361\n",
      " 0.49608546 0.49517792 0.49357712 0.49137866 0.48869732 0.48565841\n",
      " 0.48238865 0.47900975 0.47563073 0.47234562]\n"
     ]
    },
    {
     "name": "stdout",
     "output_type": "stream",
     "text": [
      "25 day output [[0.46922907]]\n",
      "26 day input [0.70909906 0.69722098 0.71470193 0.72545944 0.73823398 0.73038996\n",
      " 0.72299417 0.74719857 0.72523532 0.7994173  0.78283281 0.75571493\n",
      " 0.73352757 0.77364411 0.77140296 0.7492156  0.72859704 0.70035858\n",
      " 0.63021067 0.65105334 0.60959211 0.58471537 0.609368   0.63043478\n",
      " 0.64388167 0.6017481  0.61160914 0.62572837 0.62550426 0.64657104\n",
      " 0.59614523 0.59524877 0.59166293 0.61340206 0.6048857  0.59928283\n",
      " 0.60354101 0.58673241 0.5912147  0.60466159 0.61272972 0.62909009\n",
      " 0.63872703 0.61810847 0.59524877 0.57530255 0.60242044 0.58583595\n",
      " 0.5912147  0.59771403 0.59009413 0.60085164 0.5425818  0.53675482\n",
      " 0.53070372 0.53922008 0.5349619  0.50806813 0.53787539 0.58852532\n",
      " 0.60040341 0.59345585 0.59278351 0.59143882 0.58561183 0.59816226\n",
      " 0.58987001 0.58538772 0.58762887 0.57485433 0.56006275 0.51792918\n",
      " 0.47758853 0.50425818 0.49463284 0.48297226 0.47689971 0.47428212\n",
      " 0.47384399 0.47488847 0.47698343 0.47978589 0.48297814 0.48626134\n",
      " 0.48936597 0.49206477 0.49418113 0.49559331 0.49623361 0.49608546\n",
      " 0.49517792 0.49357712 0.49137866 0.48869732 0.48565841 0.48238865\n",
      " 0.47900975 0.47563073 0.47234562 0.46922907]\n",
      "26 day output [[0.46633625]]\n",
      "27 day input [0.69722098 0.71470193 0.72545944 0.73823398 0.73038996 0.72299417\n",
      " 0.74719857 0.72523532 0.7994173  0.78283281 0.75571493 0.73352757\n",
      " 0.77364411 0.77140296 0.7492156  0.72859704 0.70035858 0.63021067\n",
      " 0.65105334 0.60959211 0.58471537 0.609368   0.63043478 0.64388167\n",
      " 0.6017481  0.61160914 0.62572837 0.62550426 0.64657104 0.59614523\n",
      " 0.59524877 0.59166293 0.61340206 0.6048857  0.59928283 0.60354101\n",
      " 0.58673241 0.5912147  0.60466159 0.61272972 0.62909009 0.63872703\n",
      " 0.61810847 0.59524877 0.57530255 0.60242044 0.58583595 0.5912147\n",
      " 0.59771403 0.59009413 0.60085164 0.5425818  0.53675482 0.53070372\n",
      " 0.53922008 0.5349619  0.50806813 0.53787539 0.58852532 0.60040341\n",
      " 0.59345585 0.59278351 0.59143882 0.58561183 0.59816226 0.58987001\n",
      " 0.58538772 0.58762887 0.57485433 0.56006275 0.51792918 0.47758853\n",
      " 0.50425818 0.49463284 0.48297226 0.47689971 0.47428212 0.47384399\n",
      " 0.47488847 0.47698343 0.47978589 0.48297814 0.48626134 0.48936597\n",
      " 0.49206477 0.49418113 0.49559331 0.49623361 0.49608546 0.49517792\n",
      " 0.49357712 0.49137866 0.48869732 0.48565841 0.48238865 0.47900975\n",
      " 0.47563073 0.47234562 0.46922907 0.46633625]\n",
      "27 day output [[0.4637027]]\n",
      "28 day input [0.71470193 0.72545944 0.73823398 0.73038996 0.72299417 0.74719857\n",
      " 0.72523532 0.7994173  0.78283281 0.75571493 0.73352757 0.77364411\n",
      " 0.77140296 0.7492156  0.72859704 0.70035858 0.63021067 0.65105334\n",
      " 0.60959211 0.58471537 0.609368   0.63043478 0.64388167 0.6017481\n",
      " 0.61160914 0.62572837 0.62550426 0.64657104 0.59614523 0.59524877\n",
      " 0.59166293 0.61340206 0.6048857  0.59928283 0.60354101 0.58673241\n",
      " 0.5912147  0.60466159 0.61272972 0.62909009 0.63872703 0.61810847\n",
      " 0.59524877 0.57530255 0.60242044 0.58583595 0.5912147  0.59771403\n",
      " 0.59009413 0.60085164 0.5425818  0.53675482 0.53070372 0.53922008\n",
      " 0.5349619  0.50806813 0.53787539 0.58852532 0.60040341 0.59345585\n",
      " 0.59278351 0.59143882 0.58561183 0.59816226 0.58987001 0.58538772\n",
      " 0.58762887 0.57485433 0.56006275 0.51792918 0.47758853 0.50425818\n",
      " 0.49463284 0.48297226 0.47689971 0.47428212 0.47384399 0.47488847\n",
      " 0.47698343 0.47978589 0.48297814 0.48626134 0.48936597 0.49206477\n",
      " 0.49418113 0.49559331 0.49623361 0.49608546 0.49517792 0.49357712\n",
      " 0.49137866 0.48869732 0.48565841 0.48238865 0.47900975 0.47563073\n",
      " 0.47234562 0.46922907 0.46633625 0.46370271]\n",
      "28 day output [[0.4613456]]\n",
      "29 day input [0.72545944 0.73823398 0.73038996 0.72299417 0.74719857 0.72523532\n",
      " 0.7994173  0.78283281 0.75571493 0.73352757 0.77364411 0.77140296\n",
      " 0.7492156  0.72859704 0.70035858 0.63021067 0.65105334 0.60959211\n",
      " 0.58471537 0.609368   0.63043478 0.64388167 0.6017481  0.61160914\n",
      " 0.62572837 0.62550426 0.64657104 0.59614523 0.59524877 0.59166293\n",
      " 0.61340206 0.6048857  0.59928283 0.60354101 0.58673241 0.5912147\n",
      " 0.60466159 0.61272972 0.62909009 0.63872703 0.61810847 0.59524877\n",
      " 0.57530255 0.60242044 0.58583595 0.5912147  0.59771403 0.59009413\n",
      " 0.60085164 0.5425818  0.53675482 0.53070372 0.53922008 0.5349619\n",
      " 0.50806813 0.53787539 0.58852532 0.60040341 0.59345585 0.59278351\n",
      " 0.59143882 0.58561183 0.59816226 0.58987001 0.58538772 0.58762887\n",
      " 0.57485433 0.56006275 0.51792918 0.47758853 0.50425818 0.49463284\n",
      " 0.48297226 0.47689971 0.47428212 0.47384399 0.47488847 0.47698343\n",
      " 0.47978589 0.48297814 0.48626134 0.48936597 0.49206477 0.49418113\n",
      " 0.49559331 0.49623361 0.49608546 0.49517792 0.49357712 0.49137866\n",
      " 0.48869732 0.48565841 0.48238865 0.47900975 0.47563073 0.47234562\n",
      " 0.46922907 0.46633625 0.46370271 0.46134561]\n",
      "29 day output [[0.45926547]]\n",
      "[[0.4946328401565552], [0.48297226428985596], [0.4768997132778168], [0.4742821156978607], [0.4738439917564392], [0.47488847374916077], [0.4769834280014038], [0.47978588938713074], [0.48297813534736633], [0.4862613379955292], [0.48936596512794495], [0.49206477403640747], [0.4941811263561249], [0.4955933094024658], [0.49623361229896545], [0.4960854649543762], [0.4951779246330261], [0.49357712268829346], [0.49137866497039795], [0.4886973202228546], [0.4856584072113037], [0.4823886454105377], [0.479009747505188], [0.4756307303905487], [0.47234562039375305], [0.4692290723323822], [0.4663362503051758], [0.4637027084827423], [0.4613456130027771], [0.45926547050476074]]\n"
     ]
    }
   ],
   "source": [
    "lst_output=[]\n",
    "n_steps=100\n",
    "i=0\n",
    "while(i<30): \n",
    "    if(len(temp_input)>100):\n",
    "        pred_input=np.array(temp_input[1:]) \n",
    "        print(\"{} day input {}\".format(i,pred_input))\n",
    "        pred_input=pred_input.reshape(1,-1)\n",
    "        pred_input = pred_input.reshape((1, n_steps, 1))\n",
    "        yhat = model.predict(pred_input, verbose=0)\n",
    "        print(\"{} day output {}\".format(i,yhat))\n",
    "        temp_input.extend(yhat[0].tolist())\n",
    "        temp_input=temp_input[1:]\n",
    "        lst_output.extend(yhat.tolist())\n",
    "        i=i+1\n",
    "    else:\n",
    "        pred_input = pred_input.reshape((1, n_steps,1))\n",
    "        yhat = model.predict(pred_input, verbose=0)\n",
    "        print(yhat[0])\n",
    "        temp_input.extend(yhat[0].tolist())\n",
    "        print(len(temp_input))\n",
    "        lst_output.extend(yhat.tolist())\n",
    "        i=i+1\n",
    "        \n",
    "        \n",
    "print(lst_output)\n"
   ]
  },
  {
   "cell_type": "code",
   "execution_count": 33,
   "id": "384dea41",
   "metadata": {},
   "outputs": [],
   "source": [
    "day_new = np.arange(1,101)\n",
    "day_pred = np.arange(101,131)"
   ]
  },
  {
   "cell_type": "code",
   "execution_count": 34,
   "id": "8695e55e",
   "metadata": {},
   "outputs": [
    {
     "data": {
      "text/plain": [
       "1235"
      ]
     },
     "execution_count": 34,
     "metadata": {},
     "output_type": "execute_result"
    }
   ],
   "source": [
    "len(close_sort_acc_date)"
   ]
  },
  {
   "cell_type": "code",
   "execution_count": 35,
   "id": "5177f001",
   "metadata": {},
   "outputs": [
    {
     "data": {
      "image/png": "[encoded data removed]",
      "text/plain": [
       "<Figure size 1000x700 with 1 Axes>"
      ]
     },
     "metadata": {},
     "output_type": "display_data"
    }
   ],
   "source": [
    "plt.figure(figsize=(10,7))\n",
    "plt.plot(day_new,scaler.inverse_transform(close_sort_acc_date[1135:]))\n",
    "plt.plot(day_pred,scaler.inverse_transform(lst_output))\n",
    "plt.show()\n"
   ]
  },
  {
   "cell_type": "markdown",
   "id": "770e1b25",
   "metadata": {},
   "source": [
    "\n",
    "Appending in a list is done to make continuous graph"
   ]
  },
  {
   "cell_type": "code",
   "execution_count": 36,
   "id": "993b2caf",
   "metadata": {},
   "outputs": [],
   "source": [
    "df3=close_sort_acc_date.tolist()\n",
    "#adding specified list of predicted 30 days output to the end of last 100 days output\n",
    "df3.extend(lst_output)"
   ]
  },
  {
   "cell_type": "code",
   "execution_count": 37,
   "id": "a3959e71",
   "metadata": {},
   "outputs": [
    {
     "name": "stdout",
     "output_type": "stream",
     "text": [
      "1265\n"
     ]
    }
   ],
   "source": [
    "print(len(df3))"
   ]
  },
  {
   "cell_type": "code",
   "execution_count": 38,
   "id": "c1d72c6f",
   "metadata": {},
   "outputs": [
    {
     "data": {
      "image/png": "[encoded data removed]",
      "text/plain": [
       "<Figure size 1000x700 with 1 Axes>"
      ]
     },
     "metadata": {},
     "output_type": "display_data"
    }
   ],
   "source": [
    "plt.figure(figsize=(10,7))\n",
    "plt.plot(df3[1135:])\n",
    "plt.show()#latest 100 days output"
   ]
  },
  {
   "cell_type": "markdown",
   "id": "4fc0bac7",
   "metadata": {},
   "source": [
    "Plotting the graph with predicted 30 days output\n"
   ]
  },
  {
   "cell_type": "code",
   "execution_count": 39,
   "id": "9b5bb501",
   "metadata": {},
   "outputs": [],
   "source": [
    "df3=scaler.inverse_transform(df3).tolist()"
   ]
  },
  {
   "cell_type": "code",
   "execution_count": 40,
   "id": "7bb4ee15",
   "metadata": {},
   "outputs": [
    {
     "data": {
      "text/plain": [
       "[<matplotlib.lines.Line2D at 0x1e31716fd00>]"
      ]
     },
     "execution_count": 40,
     "metadata": {},
     "output_type": "execute_result"
    },
    {
     "data": {
      "image/png": "[encoded data removed]",
      "text/plain": [
       "<Figure size 1000x700 with 1 Axes>"
      ]
     },
     "metadata": {},
     "output_type": "display_data"
    }
   ],
   "source": [
    "plt.figure(figsize=(10,7))\n",
    "plt.plot(df3)"
   ]
  },
  {
   "cell_type": "code",
   "execution_count": null,
   "id": "ac963280",
   "metadata": {},
   "outputs": [],
   "source": []
  }
 ],
 "metadata": {
  "kernelspec": {
   "display_name": "Python 3 (ipykernel)",
   "language": "python",
   "name": "python3"
  },
  "language_info": {
   "codemirror_mode": {
    "name": "ipython",
    "version": 3
   },
   "file_extension": ".py",
   "mimetype": "text/x-python",
   "name": "python",
   "nbconvert_exporter": "python",
   "pygments_lexer": "ipython3",
   "version": "3.9.13"
  }
 },
 "nbformat": 4,
 "nbformat_minor": 5
}
